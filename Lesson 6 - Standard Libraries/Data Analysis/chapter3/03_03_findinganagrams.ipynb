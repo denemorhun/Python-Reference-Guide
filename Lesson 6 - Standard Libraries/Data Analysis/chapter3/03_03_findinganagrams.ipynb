{
 "cells": [
  {
   "cell_type": "markdown",
   "metadata": {},
   "source": [
    "# 03_03: Finding Anagrams"
   ]
  },
  {
   "cell_type": "code",
   "execution_count": 99,
   "metadata": {},
   "outputs": [],
   "source": [
    "import math\n",
    "import collections\n",
    "\n",
    "import numpy as np\n",
    "import pandas as pd\n",
    "import matplotlib.pyplot as pp\n",
    "\n",
    "%matplotlib inline"
   ]
  },
  {
   "cell_type": "code",
   "execution_count": 105,
   "metadata": {},
   "outputs": [],
   "source": [
    "words = sorted({line.strip().lower() for line in open('words.txt', 'r')})"
   ]
  },
  {
   "cell_type": "code",
   "execution_count": 23,
   "metadata": {},
   "outputs": [
    {
     "output_type": "execute_result",
     "data": {
      "text/plain": "['a', 'a', 'n', 'o', 'r']"
     },
     "metadata": {},
     "execution_count": 23
    }
   ],
   "source": [
    "sorted(\"aaron\")"
   ]
  },
  {
   "cell_type": "code",
   "execution_count": 24,
   "metadata": {},
   "outputs": [
    {
     "output_type": "execute_result",
     "data": {
      "text/plain": "True"
     },
     "metadata": {},
     "execution_count": 24
    }
   ],
   "source": [
    "sorted(\"elvis\") == sorted(\"lives\")"
   ]
  },
  {
   "cell_type": "code",
   "execution_count": 3,
   "metadata": {},
   "outputs": [
    {
     "output_type": "execute_result",
     "data": {
      "text/plain": "False"
     },
     "metadata": {},
     "execution_count": 3
    }
   ],
   "source": [
    "sorted(\"elvis\") == sorted(\"sings\")"
   ]
  },
  {
   "cell_type": "code",
   "execution_count": 25,
   "metadata": {},
   "outputs": [
    {
     "output_type": "execute_result",
     "data": {
      "text/plain": "'a-a-n-o-r'"
     },
     "metadata": {},
     "execution_count": 25
    }
   ],
   "source": [
    "'-'.join(sorted(\"aaron\"))"
   ]
  },
  {
   "cell_type": "code",
   "execution_count": 26,
   "metadata": {},
   "outputs": [
    {
     "output_type": "execute_result",
     "data": {
      "text/plain": "'aanor'"
     },
     "metadata": {},
     "execution_count": 26
    }
   ],
   "source": [
    "''.join(sorted(\"aaron\"))"
   ]
  },
  {
   "cell_type": "code",
   "execution_count": 27,
   "metadata": {},
   "outputs": [],
   "source": [
    "# compute the signature string for a word\n",
    "\n",
    "def signature(word):\n",
    "    return ''.join(sorted(word))"
   ]
  },
  {
   "cell_type": "code",
   "execution_count": 101,
   "metadata": {},
   "outputs": [],
   "source": [
    "# brute-force anagram search: compare myword's signature\n",
    "# with the signatures of all words in the dictionary\n",
    "\n",
    "def find_anagram(myword):\n",
    "    mysig = signature(myword)\n",
    "    \n",
    "    for word in words:\n",
    "        if mysig == signature(word):\n",
    "            print(word)"
   ]
  },
  {
   "cell_type": "code",
   "execution_count": 30,
   "metadata": {},
   "outputs": [
    {
     "output_type": "stream",
     "name": "stdout",
     "text": "dictionary\nindicatory\n"
    }
   ],
   "source": [
    "find_anagram('dictionary')"
   ]
  },
  {
   "cell_type": "code",
   "execution_count": 31,
   "metadata": {},
   "outputs": [
    {
     "output_type": "stream",
     "name": "stdout",
     "text": "dictionary\nindicatory\nCPU times: user 261 ms, sys: 6.46 ms, total: 267 ms\nWall time: 291 ms\n"
    }
   ],
   "source": [
    "%time find_anagram('dictionary')"
   ]
  },
  {
   "cell_type": "code",
   "execution_count": 104,
   "metadata": {},
   "outputs": [],
   "source": [
    "# make a dict that maps each signature to the set of words with that signature;\n",
    "# each signature will map to at least one word\n",
    "\n",
    "words_by_sig = collections.defaultdict(set)\n",
    "\n",
    "for word in words:\n",
    "    words_by_sig[signature(word)].add(word)"
   ]
  },
  {
   "cell_type": "code",
   "execution_count": 93,
   "metadata": {},
   "outputs": [],
   "source": [
    "# words_by_sig"
   ]
  },
  {
   "cell_type": "code",
   "execution_count": 106,
   "metadata": {},
   "outputs": [],
   "source": [
    "# keep only the key/value pairs where the set has more than one element;\n",
    "# this is now a regular dict\n",
    "\n",
    "anagrams_by_sig = {sig: wordset for sig, wordset in words_by_sig.items() if len(wordset) > 1}"
   ]
  },
  {
   "cell_type": "code",
   "execution_count": 92,
   "metadata": {},
   "outputs": [],
   "source": [
    "# anagrams_by_sig"
   ]
  },
  {
   "cell_type": "code",
   "execution_count": 107,
   "metadata": {},
   "outputs": [],
   "source": [
    "# smart anagram search: look up myword's signature, return set\n",
    "\n",
    "def find_anagram_fast(myword):\n",
    "    sig = signature(myword)\n",
    "    \n",
    "    return anagrams_by_sig[sig]"
   ]
  },
  {
   "cell_type": "code",
   "execution_count": 61,
   "metadata": {},
   "outputs": [
    {
     "output_type": "execute_result",
     "data": {
      "text/plain": "{'post', 'spot', 'stop', 'tops'}"
     },
     "metadata": {},
     "execution_count": 61
    }
   ],
   "source": [
    "find_anagram_fast('tops')"
   ]
  },
  {
   "cell_type": "code",
   "execution_count": 90,
   "metadata": {},
   "outputs": [],
   "source": [
    "# try a word with no anagrams\n",
    "\n",
    "# find_anagram_fast('denemorhun')"
   ]
  },
  {
   "cell_type": "code",
   "execution_count": 108,
   "metadata": {},
   "outputs": [],
   "source": [
    "# handle case when myword's signature is not found, returning the empty set\n",
    "\n",
    "def find_anagram_fast(myword):\n",
    "    sig = signature(myword)\n",
    "\n",
    "    # if nothing can be found, return empty set\n",
    "    try:\n",
    "        return anagrams_by_sig[sig]\n",
    "    except KeyError:\n",
    "        return set()"
   ]
  },
  {
   "cell_type": "code",
   "execution_count": 68,
   "metadata": {},
   "outputs": [
    {
     "output_type": "execute_result",
     "data": {
      "text/plain": "set()"
     },
     "metadata": {},
     "execution_count": 68
    }
   ],
   "source": [
    "find_anagram_fast('denemorhun')"
   ]
  },
  {
   "cell_type": "code",
   "execution_count": 67,
   "metadata": {},
   "outputs": [
    {
     "output_type": "stream",
     "name": "stdout",
     "text": "CPU times: user 12 µs, sys: 0 ns, total: 12 µs\nWall time: 14.8 µs\n"
    },
    {
     "output_type": "execute_result",
     "data": {
      "text/plain": "set()"
     },
     "metadata": {},
     "execution_count": 67
    }
   ],
   "source": [
    "%time find_anagram_fast('denemorhun')"
   ]
  },
  {
   "cell_type": "code",
   "execution_count": 75,
   "metadata": {},
   "outputs": [],
   "source": [
    "# list of signatures, sorted by length, longest first\n",
    "# sorted(anagrams_by_sig.keys(), key=len, reverse=True)"
   ]
  },
  {
   "cell_type": "code",
   "execution_count": 76,
   "metadata": {},
   "outputs": [],
   "source": [
    "# list of anagram sets, sorted by signature length\n",
    "# [anagrams_by_sig[sig] for sig in sorted(anagrams_by_sig.keys(), key=len, reverse=True)]"
   ]
  },
  {
   "cell_type": "code",
   "execution_count": 86,
   "metadata": {},
   "outputs": [],
   "source": [
    "# list of anagram sets, sorted by their length, largest first\n",
    "# sorted(anagrams_by_sig.values(), key=len, reverse=True)"
   ]
  },
  {
   "cell_type": "code",
   "execution_count": 114,
   "metadata": {
    "tags": [
     "outputPrepend"
    ]
   },
   "outputs": [
    {
     "output_type": "execute_result",
     "data": {
      "text/plain": "[('ab', 'ba'),\n ('caba', 'abac'),\n ('abas', 'saba'),\n ('yalb', 'blay'),\n ('isba', 'absi'),\n ('tuba', 'abut'),\n ('araca', 'acara'),\n ('acrid', 'dirca'),\n ('da', 'ad'),\n ('dada', 'adad'),\n ('rada', 'adar'),\n ('duad', 'daud'),\n ('adet', 'teda'),\n ('dian', 'naid'),\n ('adman', 'namda'),\n ('oda', 'ado'),\n ('dray', 'yard'),\n ('day', 'yad'),\n ('ea', 'ae'),\n ('are', 'era'),\n ('rea', 'aer'),\n ('aes', 'sea'),\n ('agla', 'alga'),\n ('agama', 'amaga'),\n ('raga', 'agar'),\n ('regga', 'agger'),\n ('agib', 'biga'),\n ('agrom', 'morga'),\n ('tsuga', 'agust'),\n ('ha', 'ah'),\n ('ahom', 'moha'),\n ('aht', 'tha'),\n ('aider', 'redia'),\n ('aile', 'elia'),\n ('ima', 'ami'),\n ('air', 'ria'),\n ('aria', 'aira'),\n ('aire', 'eria'),\n ('ati', 'ita'),\n ('raja', 'ajar'),\n ('ak', 'ka'),\n ('oka', 'ako'),\n ('auk', 'kua'),\n ('la', 'al'),\n ('anal', 'lana'),\n ('bal', 'lab'),\n ('alban', 'nabla'),\n ('nabal', 'laban'),\n ('mela', 'alem'),\n ('lean', 'nael'),\n ('anil', 'lina'),\n ('allay', 'yalla'),\n ('alle', 'ella'),\n ('allium', 'muilla'),\n ('alma', 'amla'),\n ('lamina', 'animal'),\n ('alod', 'dola'),\n ('lowa', 'awol'),\n ('lap', 'pal'),\n ('tal', 'lat'),\n ('ma', 'am'),\n ('apama', 'amapa'),\n ('amar', 'rama'),\n ('diorama', 'amaroid'),\n ('massa', 'assam'),\n ('enema', 'amene'),\n ('amelu', 'ulema'),\n ('enam', 'mane'),\n ('amen', 'nema'),\n ('amex', 'xema'),\n ('amiced', 'decima'),\n ('amil', 'lima'),\n ('naim', 'mian'),\n ('amir', 'rima'),\n ('soma', 'amos'),\n ('tam', 'mat'),\n ('manuma', 'amunam'),\n ('may', 'yam'),\n ('an', 'na'),\n ('anacara', 'aracana'),\n ('anam', 'mana'),\n ('nana', 'anan'),\n ('asana', 'anasa'),\n ('anat', 'tana'),\n ('yana', 'anay'),\n ('edna', 'ande'),\n ('nagor', 'rogan'),\n ('nias', 'sain'),\n ('sina', 'anis'),\n ('manna', 'annam'),\n ('nona', 'anon'),\n ('tan', 'nat'),\n ('etna', 'ante'),\n ('taen', 'neat'),\n ('naut', 'tuan'),\n ('yan', 'nay'),\n ('trapa', 'apart'),\n ('dopa', 'apod'),\n ('tap', 'pat'),\n ('supa', 'apus'),\n ('ra', 'ar'),\n ('arab', 'bara'),\n ('read', 'daer'),\n ('sagra', 'argas'),\n ('regal', 'lager'),\n ('liar', 'rail'),\n ('lira', 'aril'),\n ('lair', 'rial'),\n ('kra', 'ark'),\n ('ram', 'mar'),\n ('ran', 'nar'),\n ('ora', 'aro'),\n ('arras', 'sarra'),\n ('tracer', 'recart'),\n ('sirrah', 'harris'),\n ('tar', 'rat'),\n ('art', 'tra'),\n ('sumatra', 'artamus'),\n ('ura', 'aru'),\n ('mura', 'arum'),\n ('yar', 'ray'),\n ('nayar', 'rayan'),\n ('lyra', 'aryl'),\n ('as', 'sa'),\n ('kasa', 'asak'),\n ('asem', 'mesa'),\n ('kras', 'sark'),\n ('rosa', 'asor'),\n ('at', 'ta'),\n ('atap', 'pata'),\n ('tae', 'eat'),\n ('ate', 'eta'),\n ('ates', 'seta'),\n ('pita', 'atip'),\n ('atis', 'sita'),\n ('atlas', 'salta'),\n ('laet', 'teal'),\n ('leat', 'tael'),\n ('lakota', 'atokal'),\n ('dual', 'laud'),\n ('aulu', 'ulua'),\n ('aute', 'etua'),\n ('aval', 'lava'),\n ('ave', 'eva'),\n ('diva', 'avid'),\n ('siva', 'avis'),\n ('avo', 'ova'),\n ('wa', 'aw'),\n ('awat', 'tawa'),\n ('daw', 'wad'),\n ('naw', 'wan'),\n ('axon', 'noxa'),\n ('ya', 'ay'),\n ('haya', 'ayah'),\n ('cab', 'bac'),\n ('bad', 'dab'),\n ('gab', 'bag'),\n ('mab', 'bam'),\n ('nab', 'ban'),\n ('bank', 'knab'),\n ('rab', 'bar'),\n ('barb', 'brab'),\n ('drab', 'bard'),\n ('sab', 'bas'),\n ('stab', 'bats'),\n ('bat', 'tab'),\n ('batik', 'kitab'),\n ('wab', 'baw'),\n ('bed', 'deb'),\n ('dieb', 'beid'),\n ('elbert', 'treble'),\n ('ben', 'neb'),\n ('reb', 'ber'),\n ('bid', 'dib'),\n ('gib', 'big'),\n ('bim', 'mib'),\n ('nib', 'bin'),\n ('bird', 'drib'),\n ('bis', 'sib'),\n ('bit', 'tib'),\n ('blub', 'bulb'),\n ('cabob', 'bobac'),\n ('dob', 'bod'),\n ('doob', 'bood'),\n ('gob', 'bog'),\n ('bohor', 'rohob'),\n ('obol', 'lobo'),\n ('mob', 'bom'),\n ('bon', 'nob'),\n ('bonk', 'knob'),\n ('pob', 'bop'),\n ('bor', 'rob'),\n ('borer', 'rerob'),\n ('brog', 'gorb'),\n ('bos', 'sob'),\n ('bow', 'wob'),\n ('garb', 'brag'),\n ('bray', 'yarb'),\n ('yerb', 'brey'),\n ('burt', 'trub'),\n ('turb', 'brut'),\n ('tuber', 'rebut'),\n ('dub', 'bud'),\n ('bun', 'nub'),\n ('bunk', 'knub'),\n ('bur', 'rub'),\n ('burd', 'drub'),\n ('burg', 'grub'),\n ('robur', 'rubor'),\n ('suber', 'rebus'),\n ('sub', 'bus'),\n ('but', 'tub'),\n ('ecad', 'dace'),\n ('lac', 'cal'),\n ('mac', 'cam'),\n ('camus', 'sumac'),\n ('cap', 'pac'),\n ('paced', 'decap'),\n ('pacer', 'recap'),\n ('wac', 'caw'),\n ('ceps', 'spec'),\n ('tic', 'cit'),\n ('clat', 'talc'),\n ('laced', 'decal'),\n ('cod', 'doc'),\n ('cor', 'roc'),\n ('orc', 'cro'),\n ('cos', 'soc'),\n ('marc', 'cram'),\n ('eruc', 'cure'),\n ('dag', 'gad'),\n ('sgad', 'dags'),\n ('dah', 'had'),\n ('laid', 'dial'),\n ('radek', 'kedar'),\n ('dal', 'lad'),\n ('dam', 'mad'),\n ('damon', 'nomad'),\n ('nidal', 'ladin'),\n ('dap', 'pad'),\n ('dar', 'rad'),\n ('farad', 'daraf'),\n ('darg', 'grad'),\n ('dinar', 'ranid'),\n ('darts', 'strad'),\n ('darter', 'retrad'),\n ('trader', 'redart'),\n ('das', 'sad'),\n ('detar', 'rated'),\n ('ed', 'de'),\n ('meed', 'deem'),\n ('deep', 'peed'),\n ('reed', 'deer'),\n ('ged', 'deg'),\n ('led', 'del'),\n ('fled', 'delf'),\n ('demit', 'timed'),\n ('den', 'ned'),\n ('depoh', 'hoped'),\n ('dessert', 'tressed'),\n ('duel', 'leud'),\n ('devil', 'lived'),\n ('wed', 'dew'),\n ('dewer', 'rewed'),\n ('yed', 'dey'),\n ('id', 'di'),\n ('dibrom', 'morbid'),\n ('dier', 'reid'),\n ('tide', 'edit'),\n ('dig', 'gid'),\n ('dilo', 'olid'),\n ('dim', 'mid'),\n ('timid', 'dimit'),\n ('nid', 'din'),\n ('enid', 'dine'),\n ('dis', 'sid'),\n ('dit', 'tid'),\n ('do', 'od'),\n ('ode', 'edo'),\n ('god', 'dog'),\n ('lod', 'dol'),\n ('elod', 'dole'),\n ('mod', 'dom'),\n ('nod', 'don'),\n ('dool', 'lood'),\n ('mood', 'doom'),\n ('mooder', 'redoom'),\n ('door', 'rood'),\n ('pod', 'dop'),\n ('rod', 'dor'),\n ('dorp', 'prod'),\n ('dos', 'sod'),\n ('dot', 'tod'),\n ('wod', 'dow'),\n ('drail', 'liard'),\n ('draw', 'ward'),\n ('warder', 'redraw'),\n ('reward', 'drawer'),\n ('drow', 'word'),\n ('dug', 'gud'),\n ('dum', 'mud'),\n ('dup', 'pud'),\n ('nae', 'ean'),\n ('notice', 'eciton'),\n ('lee', 'eel'),\n ('eer', 'ree'),\n ('egol', 'loge'),\n ('he', 'eh'),\n ('spale', 'elaps'),\n ('elfin', 'nifle'),\n ('haole', 'eloah'),\n ('leon', 'noel'),\n ('enol', 'lone'),\n ('spole', 'elops'),\n ('lees', 'seel'),\n ('lever', 'revel'),\n ('me', 'em'),\n ('lime', 'emil'),\n ('mime', 'emim'),\n ('emir', 'rime'),\n ('imer', 'remi'),\n ('time', 'emit'),\n ('emu', 'ume'),\n ('en', 'ne'),\n ('enamor', 'romane'),\n ('namer', 'reman'),\n ('fine', 'enif'),\n ('enow', 'wone'),\n ('ense', 'esne'),\n ('yoven', 'nevoy'),\n ('sope', 'epos'),\n ('er', 're'),\n ('reg', 'ger'),\n ('reen', 'neer'),\n ('sore', 'eros'),\n ('retier', 'reiter'),\n ('rees', 'seer'),\n ('se', 'es'),\n ('evan', 'nave'),\n ('neve', 'even'),\n ('reve', 'ever'),\n ('evil', 'live'),\n ('ye', 'ey'),\n ('eyn', 'nye'),\n ('fiar', 'raif'),\n ('reef', 'feer'),\n ('feil', 'lief'),\n ('fen', 'nef'),\n ('fi', 'if'),\n ('gif', 'fig'),\n ('flew', 'welf'),\n ('flog', 'golf'),\n ('wolf', 'flow'),\n ('reflow', 'wolfer'),\n ('fo', 'of'),\n ('fool', 'loof'),\n ('foots', 'stoof'),\n ('orf', 'fro'),\n ('jag', 'gaj'),\n ('lag', 'gal'),\n ('mag', 'gam'),\n ('nag', 'gan'),\n ('gangan', 'nagnag'),\n ('gnat', 'tang'),\n ('rag', 'gar'),\n ('gnar', 'rang'),\n ('gas', 'sag'),\n ('tag', 'gat'),\n ('retag', 'gater'),\n ('wag', 'gaw'),\n ('gnaw', 'wang'),\n ('zag', 'gaz'),\n ('leg', 'gel'),\n ('gelder', 'redleg'),\n ('meg', 'gem'),\n ('ges', 'seg'),\n ('get', 'teg'),\n ('mig', 'gim'),\n ('nig', 'gin'),\n ('gip', 'pig'),\n ('girt', 'trig'),\n ('git', 'tig'),\n ('og', 'go'),\n ('log', 'gol'),\n ('golfer', 'reflog'),\n ('nog', 'gon'),\n ('rog', 'gor'),\n ('gos', 'sog'),\n ('tog', 'got'),\n ('ogpu', 'upgo'),\n ('lug', 'gul'),\n ('gulp', 'plug'),\n ('gum', 'mug'),\n ('pug', 'gup'),\n ('rug', 'gur'),\n ('gurt', 'trug'),\n ('tug', 'gut'),\n ('hakam', 'makah'),\n ('hallan', 'nallah'),\n ('ham', 'mah'),\n ('hap', 'pah'),\n ('hart', 'trah'),\n ('wah', 'haw'),\n ('hay', 'yah'),\n ('her', 'reh'),\n ('ho', 'oh'),\n ('hoop', 'pooh'),\n ('hop', 'poh'),\n ('ibo', 'obi'),\n ('ni', 'in'),\n ('retin', 'niter'),\n ('sinnet', 'tennis'),\n ('iron', 'nori'),\n ('kori', 'irok'),\n ('is', 'si'),\n ('isis', 'sisi'),\n ('ti', 'it'),\n ('neti', 'iten'),\n ('reit', 'tier'),\n ('omit', 'timo'),\n ('jar', 'raj'),\n ('jat', 'taj'),\n ('kan', 'nak'),\n ('kanap', 'panak'),\n ('tanak', 'kanat'),\n ('lark', 'kral'),\n ('yak', 'kay'),\n ('keel', 'leek'),\n ('peek', 'keep'),\n ('seek', 'kees'),\n ('kip', 'pik'),\n ('klop', 'polk'),\n ('pank', 'knap'),\n ('nark', 'kran'),\n ('knar', 'rank'),\n ('tink', 'knit'),\n ('knot', 'tonk'),\n ('knut', 'tunk'),\n ('ko', 'ok'),\n ('rok', 'kor'),\n ('sok', 'kos'),\n ('rauk', 'kuar'),\n ('lam', 'mal'),\n ('nopal', 'lapon'),\n ('palp', 'plap'),\n ('larus', 'sural'),\n ('las', 'sal'),\n ('lias', 'sail'),\n ('ossal', 'lasso'),\n ('peel', 'leep'),\n ('leer', 'reel'),\n ('teel', 'leet'),\n ('repel', 'leper'),\n ('paler', 'relap'),\n ('ler', 'rel'),\n ('relevel', 'leveler'),\n ('rivel', 'levir'),\n ('neil', 'lien'),\n ('mil', 'lim'),\n ('lin', 'nil'),\n ('lion', 'noil'),\n ('linus', 'sunil'),\n ('lis', 'sil'),\n ('til', 'lit'),\n ('llew', 'well'),\n ('olam', 'malo'),\n ('lois', 'siol'),\n ('loom', 'mool'),\n ('pool', 'loop'),\n ('loot', 'tool'),\n ('looter', 'retool'),\n ('pol', 'lop'),\n ('tol', 'lot'),\n ('owl', 'lwo'),\n ('nam', 'man'),\n ('senam', 'manes'),\n ('oam', 'mao'),\n ('pam', 'map'),\n ('tram', 'mart'),\n ('sam', 'mas'),\n ('mats', 'stam'),\n ('teem', 'meet'),\n ('remeet', 'teemer'),\n ('remit', 'timer'),\n ('retem', 'meter'),\n ('mew', 'wem'),\n ('ohm', 'mho'),\n ('mias', 'saim'),\n ('min', 'nim'),\n ('mir', 'rim'),\n ('om', 'mo'),\n ('mools', 'sloom'),\n ('room', 'moor'),\n ('moot', 'toom'),\n ('pom', 'mop'),\n ('tom', 'mot'),\n ('yom', 'moy'),\n ('um', 'mu'),\n ('sum', 'mus'),\n ('my', 'ym'),\n ('nahor', 'rohan'),\n ('namaz', 'zaman'),\n ('nap', 'pan'),\n ('nasus', 'susan'),\n ('nedder', 'redden'),\n ('peen', 'neep'),\n ('neet', 'teen'),\n ('pen', 'nep'),\n ('neper', 'repen'),\n ('ten', 'net'),\n ('nevo', 'oven'),\n ('wen', 'new'),\n ('nip', 'pin'),\n ('nit', 'tin'),\n ('on', 'no'),\n ('nonet', 'tenon'),\n ('poon', 'noop'),\n ('nor', 'ron'),\n ('ton', 'not'),\n ('won', 'now'),\n ('noy', 'yon'),\n ('nu', 'un'),\n ('tun', 'nut'),\n ('tao', 'oat'),\n ('pot', 'top'),\n ('ro', 'or'),\n ('rot', 'tor'),\n ('roy', 'yor'),\n ('so', 'os'),\n ('suto', 'otus'),\n ('ow', 'wo'),\n ('rap', 'par'),\n ('tarp', 'prat'),\n ('trap', 'part'),\n ('taps', 'spat'),\n ('wap', 'paw'),\n ('yap', 'pay'),\n ('rep', 'per'),\n ('rip', 'pir'),\n ('pit', 'tip'),\n ('pulp', 'plup'),\n ('toop', 'poot'),\n ('report', 'troper'),\n ('spot', 'tops'),\n ('repot', 'toper'),\n ('pow', 'wop'),\n ('prut', 'turp'),\n ('up', 'pu'),\n ('sup', 'pus'),\n ('put', 'tup'),\n ('ras', 'sar'),\n ('raw', 'war'),\n ('rewarder', 'redrawer'),\n ('reet', 'teer'),\n ('reis', 'sier'),\n ('reknit', 'tinker'),\n ('rennet', 'tenner'),\n ('rewet', 'tewer'),\n ('rotanev', 'venator'),\n ('sur', 'rus'),\n ('rut', 'tur'),\n ('was', 'saw'),\n ('sawt', 'twas'),\n ('taws', 'swat'),\n ('yas', 'say'),\n ('sew', 'wes'),\n ('yes', 'sey'),\n ('slew', 'wels'),\n ('stow', 'wots'),\n ('traps', 'spart'),\n ('tuts', 'stut'),\n ('sway', 'yaws'),\n ('vat', 'tav'),\n ('taw', 'wat'),\n ('tay', 'yat'),\n ('tew', 'wet'),\n ('trot', 'tort'),\n ('tow', 'wot'),\n ('toy', 'yot'),\n ('wort', 'trow'),\n ('tu', 'ut'),\n ('way', 'yaw'),\n ('wey', 'yew'),\n ('woy', 'yow')]"
     },
     "metadata": {},
     "execution_count": 114
    }
   ],
   "source": [
    "# print list of palindromes, if word == reversed(word)\n",
    "\n",
    "import itertools\n",
    "\n",
    "def reversed(x):\n",
    "  return x[::-1]\n",
    "\n",
    "\n",
    "pairs = []\n",
    "\n",
    "for wordset in anagrams_by_sig.values():\n",
    "    for word1, word2 in itertools.combinations(wordset, 2):\n",
    "        if word1 == reversed(word2):\n",
    "            pairs.append((word1, word2))\n",
    "\n",
    "pairs\n",
    "\n",
    "#[anagrams_by_sig[sig] for sig in sorted(anagrams_by_sig.keys(), key=len, reverse=True)]"
   ]
  },
  {
   "cell_type": "code",
   "execution_count": null,
   "metadata": {},
   "outputs": [],
   "source": []
  }
 ],
 "metadata": {
  "kernelspec": {
   "display_name": "Python 3",
   "language": "python",
   "name": "python3"
  },
  "language_info": {
   "codemirror_mode": {
    "name": "ipython",
    "version": 3
   },
   "file_extension": ".py",
   "mimetype": "text/x-python",
   "name": "python",
   "nbconvert_exporter": "python",
   "pygments_lexer": "ipython3",
   "version": "3.8.1-final"
  }
 },
 "nbformat": 4,
 "nbformat_minor": 2
}