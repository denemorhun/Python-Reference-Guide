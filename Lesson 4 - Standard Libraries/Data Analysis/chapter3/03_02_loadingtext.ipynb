{
 "cells": [
  {
   "cell_type": "markdown",
   "metadata": {},
   "source": [
    "# 03_02: Loading Text Files"
   ]
  },
  {
   "cell_type": "code",
   "execution_count": null,
   "metadata": {},
   "outputs": [],
   "source": [
    "import math\n",
    "import collections\n",
    "\n",
    "import numpy as np\n",
    "import pandas as pd\n",
    "import matplotlib.pyplot as pp\n",
    "\n",
    "%matplotlib inline"
   ]
  },
  {
   "cell_type": "code",
   "execution_count": 2,
   "metadata": {},
   "outputs": [],
   "source": [
    "# iterating over an open file yields its lines, one by one\n",
    "\n",
    "words = []\n",
    "for line in open('words.txt', 'r'):\n",
    "    words.append(line)"
   ]
  },
  {
   "cell_type": "code",
   "execution_count": 3,
   "metadata": {},
   "outputs": [
    {
     "output_type": "execute_result",
     "data": {
      "text/plain": "235886"
     },
     "metadata": {},
     "execution_count": 3
    }
   ],
   "source": [
    "len(words)"
   ]
  },
  {
   "cell_type": "code",
   "execution_count": 7,
   "metadata": {},
   "outputs": [
    {
     "output_type": "execute_result",
     "data": {
      "text/plain": "['A\\n',\n 'a\\n',\n 'aa\\n',\n 'aal\\n',\n 'aalii\\n',\n 'aam\\n',\n 'Aani\\n',\n 'aardvark\\n',\n 'aardwolf\\n',\n 'Aaron\\n']"
     },
     "metadata": {},
     "execution_count": 7
    }
   ],
   "source": [
    "words[:10]"
   ]
  },
  {
   "cell_type": "code",
   "execution_count": null,
   "metadata": {},
   "outputs": [],
   "source": [
    "'Aaron\\n'.strip()"
   ]
  },
  {
   "cell_type": "code",
   "execution_count": 8,
   "metadata": {},
   "outputs": [
    {
     "output_type": "execute_result",
     "data": {
      "text/plain": "'aaron'"
     },
     "metadata": {},
     "execution_count": 8
    }
   ],
   "source": [
    "'Aaron\\n'.strip().lower()"
   ]
  },
  {
   "cell_type": "code",
   "execution_count": 11,
   "metadata": {},
   "outputs": [],
   "source": [
    "words = []\n",
    "for line in open('words.txt', 'r'):\n",
    "    words.append(line.strip().lower())"
   ]
  },
  {
   "cell_type": "code",
   "execution_count": 12,
   "metadata": {},
   "outputs": [
    {
     "output_type": "execute_result",
     "data": {
      "text/plain": "['a',\n 'a',\n 'aa',\n 'aal',\n 'aalii',\n 'aam',\n 'aani',\n 'aardvark',\n 'aardwolf',\n 'aaron']"
     },
     "metadata": {},
     "execution_count": 12
    }
   ],
   "source": [
    "words[:10]"
   ]
  },
  {
   "cell_type": "code",
   "execution_count": null,
   "metadata": {},
   "outputs": [],
   "source": [
    "words = set()\n",
    "for line in open('words.txt', 'r'):\n",
    "    words.add(line.strip().lower())"
   ]
  },
  {
   "cell_type": "code",
   "execution_count": null,
   "metadata": {},
   "outputs": [],
   "source": [
    "# a set comprehension that collects stripped and lowercased lines...\n",
    "words = {line.strip().lower() for line in open('words.txt', 'r')}"
   ]
  },
  {
   "cell_type": "code",
   "execution_count": 14,
   "metadata": {},
   "outputs": [
    {
     "output_type": "execute_result",
     "data": {
      "text/plain": "['a',\n 'a',\n 'aa',\n 'aal',\n 'aalii',\n 'aam',\n 'aani',\n 'aardvark',\n 'aardwolf',\n 'aaron',\n 'aaronic',\n 'aaronical',\n 'aaronite',\n 'aaronitic',\n 'aaru',\n 'ab',\n 'aba',\n 'ababdeh',\n 'ababua',\n 'abac',\n 'abaca',\n 'abacate',\n 'abacay',\n 'abacinate',\n 'abacination',\n 'abaciscus',\n 'abacist',\n 'aback',\n 'abactinal',\n 'abactinally',\n 'abaction',\n 'abactor',\n 'abaculus',\n 'abacus',\n 'abadite',\n 'abaff',\n 'abaft',\n 'abaisance',\n 'abaiser',\n 'abaissed',\n 'abalienate',\n 'abalienation',\n 'abalone',\n 'abama',\n 'abampere',\n 'abandon',\n 'abandonable',\n 'abandoned',\n 'abandonedly',\n 'abandonee',\n 'abandoner',\n 'abandonment',\n 'abanic',\n 'abantes',\n 'abaptiston',\n 'abarambo',\n 'abaris',\n 'abarthrosis',\n 'abarticular',\n 'abarticulation',\n 'abas',\n 'abase',\n 'abased',\n 'abasedly',\n 'abasedness',\n 'abasement',\n 'abaser',\n 'abasgi',\n 'abash',\n 'abashed',\n 'abashedly',\n 'abashedness',\n 'abashless',\n 'abashlessly',\n 'abashment',\n 'abasia',\n 'abasic',\n 'abask',\n 'abassin',\n 'abastardize',\n 'abatable',\n 'abate',\n 'abatement',\n 'abater',\n 'abatis',\n 'abatised',\n 'abaton',\n 'abator',\n 'abattoir',\n 'abatua',\n 'abature',\n 'abave',\n 'abaxial',\n 'abaxile',\n 'abaze',\n 'abb',\n 'abba',\n 'abbacomes',\n 'abbacy',\n 'abbadide',\n 'abbas',\n 'abbasi',\n 'abbassi',\n 'abbasside',\n 'abbatial',\n 'abbatical',\n 'abbess',\n 'abbey',\n 'abbeystede',\n 'abbie',\n 'abbot',\n 'abbotcy',\n 'abbotnullius',\n 'abbotship',\n 'abbreviate',\n 'abbreviately',\n 'abbreviation',\n 'abbreviator',\n 'abbreviatory',\n 'abbreviature',\n 'abby',\n 'abcoulomb',\n 'abdal',\n 'abdat',\n 'abderian',\n 'abderite',\n 'abdest',\n 'abdicable',\n 'abdicant',\n 'abdicate',\n 'abdication',\n 'abdicative',\n 'abdicator',\n 'abdiel',\n 'abditive',\n 'abditory',\n 'abdomen',\n 'abdominal',\n 'abdominales',\n 'abdominalian',\n 'abdominally',\n 'abdominoanterior',\n 'abdominocardiac',\n 'abdominocentesis',\n 'abdominocystic',\n 'abdominogenital',\n 'abdominohysterectomy',\n 'abdominohysterotomy',\n 'abdominoposterior',\n 'abdominoscope',\n 'abdominoscopy',\n 'abdominothoracic',\n 'abdominous',\n 'abdominovaginal',\n 'abdominovesical',\n 'abduce',\n 'abducens',\n 'abducent',\n 'abduct',\n 'abduction',\n 'abductor',\n 'abe',\n 'abeam',\n 'abear',\n 'abearance',\n 'abecedarian',\n 'abecedarium',\n 'abecedary',\n 'abed',\n 'abeigh',\n 'abel',\n 'abele',\n 'abelia',\n 'abelian',\n 'abelicea',\n 'abelite',\n 'abelite',\n 'abelmoschus',\n 'abelmosk',\n 'abelonian',\n 'abeltree',\n 'abencerrages',\n 'abenteric',\n 'abepithymia',\n 'aberdeen',\n 'aberdevine',\n 'aberdonian',\n 'aberia',\n 'aberrance',\n 'aberrancy',\n 'aberrant',\n 'aberrate',\n 'aberration',\n 'aberrational',\n 'aberrator',\n 'aberrometer',\n 'aberroscope',\n 'aberuncator',\n 'abet',\n 'abetment',\n 'abettal',\n 'abettor',\n 'abevacuation',\n 'abey',\n 'abeyance',\n 'abeyancy',\n 'abeyant',\n 'abfarad',\n 'abhenry',\n 'abhiseka',\n 'abhominable',\n 'abhor',\n 'abhorrence',\n 'abhorrency',\n 'abhorrent',\n 'abhorrently',\n 'abhorrer',\n 'abhorrible',\n 'abhorring',\n 'abhorson',\n 'abidal',\n 'abidance',\n 'abide',\n 'abider',\n 'abidi',\n 'abiding',\n 'abidingly',\n 'abidingness',\n 'abie',\n 'abies',\n 'abietate',\n 'abietene',\n 'abietic',\n 'abietin',\n 'abietineae',\n 'abietineous',\n 'abietinic',\n 'abiezer',\n 'abigail',\n 'abigail',\n 'abigailship',\n 'abigeat',\n 'abigeus',\n 'abilao',\n 'ability',\n 'abilla',\n 'abilo',\n 'abintestate',\n 'abiogenesis',\n 'abiogenesist',\n 'abiogenetic',\n 'abiogenetical',\n 'abiogenetically',\n 'abiogenist',\n 'abiogenous',\n 'abiogeny',\n 'abiological',\n 'abiologically',\n 'abiology',\n 'abiosis',\n 'abiotic',\n 'abiotrophic',\n 'abiotrophy',\n 'abipon',\n 'abir',\n 'abirritant',\n 'abirritate',\n 'abirritation',\n 'abirritative',\n 'abiston',\n 'abitibi',\n 'abiuret',\n 'abject',\n 'abjectedness',\n 'abjection',\n 'abjective',\n 'abjectly',\n 'abjectness',\n 'abjoint',\n 'abjudge',\n 'abjudicate',\n 'abjudication',\n 'abjunction',\n 'abjunctive',\n 'abjuration',\n 'abjuratory',\n 'abjure',\n 'abjurement',\n 'abjurer',\n 'abkar',\n 'abkari',\n 'abkhas',\n 'abkhasian',\n 'ablach',\n 'ablactate',\n 'ablactation',\n 'ablare',\n 'ablastemic',\n 'ablastous',\n 'ablate',\n 'ablation',\n 'ablatitious',\n 'ablatival',\n 'ablative',\n 'ablator',\n 'ablaut',\n 'ablaze',\n 'able',\n 'ableeze',\n 'ablegate',\n 'ableness',\n 'ablepharia',\n 'ablepharon',\n 'ablepharous',\n 'ablepharus',\n 'ablepsia',\n 'ableptical',\n 'ableptically',\n 'abler',\n 'ablest',\n 'ablewhackets',\n 'ablins',\n 'abloom',\n 'ablow',\n 'ablude',\n 'abluent',\n 'ablush',\n 'ablution',\n 'ablutionary',\n 'abluvion',\n 'ably',\n 'abmho',\n 'abnaki',\n 'abnegate',\n 'abnegation',\n 'abnegative',\n 'abnegator',\n 'abner',\n 'abnerval',\n 'abnet',\n 'abneural',\n 'abnormal',\n 'abnormalism',\n 'abnormalist',\n 'abnormality',\n 'abnormalize',\n 'abnormally',\n 'abnormalness',\n 'abnormity',\n 'abnormous',\n 'abnumerable',\n 'abo',\n 'aboard',\n 'abobra',\n 'abode',\n 'abodement',\n 'abody',\n 'abohm',\n 'aboil',\n 'abolish',\n 'abolisher',\n 'abolishment',\n 'abolition',\n 'abolitionary',\n 'abolitionism',\n 'abolitionist',\n 'abolitionize',\n 'abolla',\n 'aboma',\n 'abomasum',\n 'abomasus',\n 'abominable',\n 'abominableness',\n 'abominably',\n 'abominate',\n 'abomination',\n 'abominator',\n 'abomine',\n 'abongo',\n 'aboon',\n 'aborad',\n 'aboral',\n 'aborally',\n 'abord',\n 'aboriginal',\n 'aboriginality',\n 'aboriginally',\n 'aboriginary',\n 'aborigine',\n 'abort',\n 'aborted',\n 'aborticide',\n 'abortient',\n 'abortifacient',\n 'abortin',\n 'abortion',\n 'abortional',\n 'abortionist',\n 'abortive',\n 'abortively',\n 'abortiveness',\n 'abortus',\n 'abouchement',\n 'abound',\n 'abounder',\n 'abounding',\n 'aboundingly',\n 'about',\n 'abouts',\n 'above',\n 'aboveboard',\n 'abovedeck',\n 'aboveground',\n 'aboveproof',\n 'abovestairs',\n 'abox',\n 'abracadabra',\n 'abrachia',\n 'abradant',\n 'abrade',\n 'abrader',\n 'abraham',\n 'abrahamic',\n 'abrahamidae',\n 'abrahamite',\n 'abrahamitic',\n 'abraid',\n 'abram',\n 'abramis',\n 'abranchial',\n 'abranchialism',\n 'abranchian',\n 'abranchiata',\n 'abranchiate',\n 'abranchious',\n 'abrasax',\n 'abrase',\n 'abrash',\n 'abrasiometer',\n 'abrasion',\n 'abrasive',\n 'abrastol',\n 'abraum',\n 'abraxas',\n 'abreact',\n 'abreaction',\n 'abreast',\n 'abrenounce',\n 'abret',\n 'abrico',\n 'abridge',\n 'abridgeable',\n 'abridged',\n 'abridgedly',\n 'abridger',\n 'abridgment',\n 'abrim',\n 'abrin',\n 'abristle',\n 'abroach',\n 'abroad',\n 'abrocoma',\n 'abrocome',\n 'abrogable',\n 'abrogate',\n 'abrogation',\n 'abrogative',\n 'abrogator',\n 'abroma',\n 'abronia',\n 'abrook',\n 'abrotanum',\n 'abrotine',\n 'abrupt',\n 'abruptedly',\n 'abruption',\n 'abruptly',\n 'abruptness',\n 'abrus',\n 'absalom',\n 'absampere',\n 'absaroka',\n 'absarokite',\n 'abscess',\n 'abscessed',\n 'abscession',\n 'abscessroot',\n 'abscind',\n 'abscise',\n 'abscision',\n 'absciss',\n 'abscissa',\n 'abscissae',\n 'abscisse',\n 'abscission',\n 'absconce',\n 'abscond',\n 'absconded',\n 'abscondedly',\n 'abscondence',\n 'absconder',\n 'absconsa',\n 'abscoulomb',\n 'absence',\n 'absent',\n 'absentation',\n 'absentee',\n 'absenteeism',\n 'absenteeship',\n 'absenter',\n 'absently',\n 'absentment',\n 'absentmindedly',\n 'absentness',\n 'absfarad',\n 'abshenry',\n 'absi',\n 'absinthe',\n 'absinthial',\n 'absinthian',\n 'absinthiate',\n 'absinthic',\n 'absinthin',\n 'absinthine',\n 'absinthism',\n 'absinthismic',\n 'absinthium',\n 'absinthol',\n 'absit',\n 'absmho',\n 'absohm',\n 'absolute',\n 'absolutely',\n 'absoluteness',\n 'absolution',\n 'absolutism',\n 'absolutist',\n 'absolutistic',\n 'absolutistically',\n 'absolutive',\n 'absolutization',\n 'absolutize',\n 'absolutory',\n 'absolvable',\n 'absolvatory',\n 'absolve',\n 'absolvent',\n 'absolver',\n 'absolvitor',\n 'absolvitory',\n 'absonant',\n 'absonous',\n 'absorb',\n 'absorbability',\n 'absorbable',\n 'absorbed',\n 'absorbedly',\n 'absorbedness',\n 'absorbefacient',\n 'absorbency',\n 'absorbent',\n 'absorber',\n 'absorbing',\n 'absorbingly',\n 'absorbition',\n 'absorpt',\n 'absorptance',\n 'absorptiometer',\n 'absorptiometric',\n 'absorption',\n 'absorptive',\n 'absorptively',\n 'absorptiveness',\n 'absorptivity',\n 'absquatulate',\n 'abstain',\n 'abstainer',\n 'abstainment',\n 'abstemious',\n 'abstemiously',\n 'abstemiousness',\n 'abstention',\n 'abstentionist',\n 'abstentious',\n 'absterge',\n 'abstergent',\n 'abstersion',\n 'abstersive',\n 'abstersiveness',\n 'abstinence',\n 'abstinency',\n 'abstinent',\n 'abstinential',\n 'abstinently',\n 'abstract',\n 'abstracted',\n 'abstractedly',\n 'abstractedness',\n 'abstracter',\n 'abstraction',\n 'abstractional',\n 'abstractionism',\n 'abstractionist',\n 'abstractitious',\n 'abstractive',\n 'abstractively',\n 'abstractiveness',\n 'abstractly',\n 'abstractness',\n 'abstractor',\n 'abstrahent',\n 'abstricted',\n 'abstriction',\n 'abstruse',\n 'abstrusely',\n 'abstruseness',\n 'abstrusion',\n 'abstrusity',\n 'absume',\n 'absumption',\n 'absurd',\n 'absurdity',\n 'absurdly',\n 'absurdness',\n 'absvolt',\n 'absyrtus',\n 'abterminal',\n 'abthain',\n 'abthainrie',\n 'abthainry',\n 'abthanage',\n 'abu',\n 'abu',\n 'abucco',\n 'abulia',\n 'abulic',\n 'abulomania',\n 'abuna',\n 'abundance',\n 'abundancy',\n 'abundant',\n 'abundantia',\n 'abundantly',\n 'abura',\n 'aburabozu',\n 'aburban',\n 'aburst',\n 'aburton',\n 'abusable',\n 'abuse',\n 'abusedly',\n 'abusee',\n 'abuseful',\n 'abusefully',\n 'abusefulness',\n 'abuser',\n 'abusion',\n 'abusious',\n 'abusive',\n 'abusively',\n 'abusiveness',\n 'abut',\n 'abuta',\n 'abutilon',\n 'abutment',\n 'abuttal',\n 'abutter',\n 'abutting',\n 'abuzz',\n 'abvolt',\n 'abwab',\n 'aby',\n 'abysm',\n 'abysmal',\n 'abysmally',\n 'abyss',\n 'abyssal',\n 'abyssinian',\n 'abyssobenthonic',\n 'abyssolith',\n 'abyssopelagic',\n 'acacatechin',\n 'acacatechol',\n 'acacetin',\n 'acacia',\n 'acacian',\n 'acaciin',\n 'acacin',\n 'academe',\n 'academial',\n 'academian',\n 'academic',\n 'academic',\n 'academical',\n 'academically',\n 'academicals',\n 'academician',\n 'academicism',\n 'academism',\n 'academist',\n 'academite',\n 'academization',\n 'academize',\n 'academus',\n 'academy',\n 'acadia',\n 'acadialite',\n 'acadian',\n 'acadie',\n 'acaena',\n 'acajou',\n 'acaleph',\n 'acalepha',\n 'acalephae',\n 'acalephan',\n 'acalephoid',\n 'acalycal',\n 'acalycine',\n 'acalycinous',\n 'acalyculate',\n 'acalypha',\n 'acalypterae',\n 'acalyptrata',\n 'acalyptratae',\n 'acalyptrate',\n 'acamar',\n 'acampsia',\n 'acana',\n 'acanaceous',\n 'acanonical',\n 'acanth',\n 'acantha',\n 'acanthaceae',\n 'acanthaceous',\n 'acanthad',\n 'acantharia',\n 'acanthia',\n 'acanthial',\n 'acanthin',\n 'acanthine',\n 'acanthion',\n 'acanthite',\n 'acanthocarpous',\n 'acanthocephala',\n 'acanthocephalan',\n 'acanthocephali',\n 'acanthocephalous',\n 'acanthocereus',\n 'acanthocladous',\n 'acanthodea',\n 'acanthodean',\n 'acanthodei',\n 'acanthodes',\n 'acanthodian',\n 'acanthodidae',\n 'acanthodii',\n 'acanthodini',\n 'acanthoid',\n 'acantholimon',\n 'acanthological',\n 'acanthology',\n 'acantholysis',\n 'acanthoma',\n 'acanthomeridae',\n 'acanthon',\n 'acanthopanax',\n 'acanthophis',\n 'acanthophorous',\n 'acanthopod',\n 'acanthopodous',\n 'acanthopomatous',\n 'acanthopore',\n 'acanthopteran',\n 'acanthopteri',\n 'acanthopterous',\n 'acanthopterygian',\n 'acanthopterygii',\n 'acanthosis',\n 'acanthous',\n 'acanthuridae',\n 'acanthurus',\n 'acanthus',\n 'acapnia',\n 'acapnial',\n 'acapsular',\n 'acapu',\n 'acapulco',\n 'acara',\n 'acarapis',\n 'acardia',\n 'acardiac',\n 'acari',\n 'acarian',\n 'acariasis',\n 'acaricidal',\n 'acaricide',\n 'acarid',\n 'acarida',\n 'acaridea',\n 'acaridean',\n 'acaridomatium',\n 'acariform',\n 'acarina',\n 'acarine',\n 'acarinosis',\n 'acarocecidium',\n 'acarodermatitis',\n 'acaroid',\n 'acarol',\n 'acarologist',\n 'acarology',\n 'acarophilous',\n 'acarophobia',\n 'acarotoxic',\n 'acarpelous',\n 'acarpous',\n 'acarus',\n 'acastus',\n 'acatalectic',\n 'acatalepsia',\n 'acatalepsy',\n 'acataleptic',\n 'acatallactic',\n 'acatamathesia',\n 'acataphasia',\n 'acataposis',\n 'acatastasia',\n 'acatastatic',\n 'acate',\n 'acategorical',\n 'acatery',\n 'acatharsia',\n 'acatharsy',\n 'acatholic',\n 'acaudal',\n 'acaudate',\n 'acaulescent',\n 'acauline',\n 'acaulose',\n 'acaulous',\n 'acca',\n 'accede',\n 'accedence',\n 'acceder',\n 'accelerable',\n 'accelerando',\n 'accelerant',\n 'accelerate',\n 'accelerated',\n 'acceleratedly',\n 'acceleration',\n 'accelerative',\n 'accelerator',\n 'acceleratory',\n 'accelerograph',\n 'accelerometer',\n 'accend',\n 'accendibility',\n 'accendible',\n 'accension',\n 'accensor',\n 'accent',\n 'accentless',\n 'accentor',\n 'accentuable',\n 'accentual',\n 'accentuality',\n 'accentually',\n 'accentuate',\n 'accentuation',\n 'accentuator',\n 'accentus',\n 'accept',\n 'acceptability',\n 'acceptable',\n 'acceptableness',\n 'acceptably',\n 'acceptance',\n 'acceptancy',\n 'acceptant',\n 'acceptation',\n 'accepted',\n 'acceptedly',\n 'accepter',\n 'acceptilate',\n 'acceptilation',\n 'acception',\n 'acceptive',\n 'acceptor',\n 'acceptress',\n 'accerse',\n 'accersition',\n 'accersitor',\n 'access',\n 'accessarily',\n 'accessariness',\n 'accessary',\n 'accessaryship',\n 'accessibility',\n 'accessible',\n 'accessibly',\n 'accession',\n 'accessional',\n 'accessioner',\n 'accessive',\n 'accessively',\n 'accessless',\n 'accessorial',\n 'accessorily',\n 'accessoriness',\n 'accessorius',\n 'accessory',\n 'accidence',\n 'accidency',\n 'accident',\n 'accidental',\n 'accidentalism',\n 'accidentalist',\n 'accidentality',\n 'accidentally',\n 'accidentalness',\n 'accidented',\n 'accidential',\n 'accidentiality',\n 'accidently',\n 'accidia',\n 'accidie',\n 'accinge',\n 'accipient',\n 'accipiter',\n 'accipitral',\n 'accipitrary',\n 'accipitres',\n 'accipitrine',\n 'accismus',\n 'accite',\n 'acclaim',\n 'acclaimable',\n 'acclaimer',\n 'acclamation',\n 'acclamator',\n 'acclamatory',\n 'acclimatable',\n 'acclimatation',\n 'acclimate',\n 'acclimatement',\n 'acclimation',\n 'acclimatizable',\n 'acclimatization',\n 'acclimatize',\n 'acclimatizer',\n 'acclimature',\n 'acclinal',\n 'acclinate',\n 'acclivitous',\n 'acclivity',\n 'acclivous',\n 'accloy',\n 'accoast',\n 'accoil',\n 'accolade',\n 'accoladed',\n 'accolated',\n 'accolent',\n 'accolle',\n 'accombination',\n 'accommodable',\n 'accommodableness',\n 'accommodate',\n 'accommodately',\n 'accommodateness',\n 'accommodating',\n 'accommodatingly',\n 'accommodation',\n 'accommodational',\n 'accommodative',\n 'accommodativeness',\n 'accommodator',\n 'accompanier',\n 'accompaniment',\n 'accompanimental',\n 'accompanist',\n 'accompany',\n 'accompanyist',\n 'accompletive',\n 'accomplice',\n 'accompliceship',\n 'accomplicity',\n 'accomplish',\n 'accomplishable',\n 'accomplished',\n 'accomplisher',\n 'accomplishment',\n 'accomplisht',\n 'accompt',\n 'accord',\n 'accordable',\n 'accordance',\n 'accordancy',\n 'accordant',\n ...]"
     },
     "metadata": {},
     "execution_count": 14
    }
   ],
   "source": [
    "words"
   ]
  },
  {
   "cell_type": "code",
   "execution_count": 15,
   "metadata": {},
   "outputs": [],
   "source": [
    "# ...turned into a sorted list\n",
    "words = sorted({line.strip().lower() for line in open('words.txt', 'r')})"
   ]
  },
  {
   "cell_type": "code",
   "execution_count": 16,
   "metadata": {},
   "outputs": [
    {
     "output_type": "execute_result",
     "data": {
      "text/plain": "['a',\n 'aa',\n 'aal',\n 'aalii',\n 'aam',\n 'aani',\n 'aardvark',\n 'aardwolf',\n 'aaron',\n 'aaronic',\n 'aaronical',\n 'aaronite',\n 'aaronitic',\n 'aaru',\n 'ab',\n 'aba',\n 'ababdeh',\n 'ababua',\n 'abac',\n 'abaca',\n 'abacate',\n 'abacay',\n 'abacinate',\n 'abacination',\n 'abaciscus',\n 'abacist',\n 'aback',\n 'abactinal',\n 'abactinally',\n 'abaction',\n 'abactor',\n 'abaculus',\n 'abacus',\n 'abadite',\n 'abaff',\n 'abaft',\n 'abaisance',\n 'abaiser',\n 'abaissed',\n 'abalienate',\n 'abalienation',\n 'abalone',\n 'abama',\n 'abampere',\n 'abandon',\n 'abandonable',\n 'abandoned',\n 'abandonedly',\n 'abandonee',\n 'abandoner',\n 'abandonment',\n 'abanic',\n 'abantes',\n 'abaptiston',\n 'abarambo',\n 'abaris',\n 'abarthrosis',\n 'abarticular',\n 'abarticulation',\n 'abas',\n 'abase',\n 'abased',\n 'abasedly',\n 'abasedness',\n 'abasement',\n 'abaser',\n 'abasgi',\n 'abash',\n 'abashed',\n 'abashedly',\n 'abashedness',\n 'abashless',\n 'abashlessly',\n 'abashment',\n 'abasia',\n 'abasic',\n 'abask',\n 'abassin',\n 'abastardize',\n 'abatable',\n 'abate',\n 'abatement',\n 'abater',\n 'abatis',\n 'abatised',\n 'abaton',\n 'abator',\n 'abattoir',\n 'abatua',\n 'abature',\n 'abave',\n 'abaxial',\n 'abaxile',\n 'abaze',\n 'abb',\n 'abba',\n 'abbacomes',\n 'abbacy',\n 'abbadide',\n 'abbas',\n 'abbasi',\n 'abbassi',\n 'abbasside',\n 'abbatial',\n 'abbatical',\n 'abbess',\n 'abbey',\n 'abbeystede',\n 'abbie',\n 'abbot',\n 'abbotcy',\n 'abbotnullius',\n 'abbotship',\n 'abbreviate',\n 'abbreviately',\n 'abbreviation',\n 'abbreviator',\n 'abbreviatory',\n 'abbreviature',\n 'abby',\n 'abcoulomb',\n 'abdal',\n 'abdat',\n 'abderian',\n 'abderite',\n 'abdest',\n 'abdicable',\n 'abdicant',\n 'abdicate',\n 'abdication',\n 'abdicative',\n 'abdicator',\n 'abdiel',\n 'abditive',\n 'abditory',\n 'abdomen',\n 'abdominal',\n 'abdominales',\n 'abdominalian',\n 'abdominally',\n 'abdominoanterior',\n 'abdominocardiac',\n 'abdominocentesis',\n 'abdominocystic',\n 'abdominogenital',\n 'abdominohysterectomy',\n 'abdominohysterotomy',\n 'abdominoposterior',\n 'abdominoscope',\n 'abdominoscopy',\n 'abdominothoracic',\n 'abdominous',\n 'abdominovaginal',\n 'abdominovesical',\n 'abduce',\n 'abducens',\n 'abducent',\n 'abduct',\n 'abduction',\n 'abductor',\n 'abe',\n 'abeam',\n 'abear',\n 'abearance',\n 'abecedarian',\n 'abecedarium',\n 'abecedary',\n 'abed',\n 'abeigh',\n 'abel',\n 'abele',\n 'abelia',\n 'abelian',\n 'abelicea',\n 'abelite',\n 'abelmoschus',\n 'abelmosk',\n 'abelonian',\n 'abeltree',\n 'abencerrages',\n 'abenteric',\n 'abepithymia',\n 'aberdeen',\n 'aberdevine',\n 'aberdonian',\n 'aberia',\n 'aberrance',\n 'aberrancy',\n 'aberrant',\n 'aberrate',\n 'aberration',\n 'aberrational',\n 'aberrator',\n 'aberrometer',\n 'aberroscope',\n 'aberuncator',\n 'abet',\n 'abetment',\n 'abettal',\n 'abettor',\n 'abevacuation',\n 'abey',\n 'abeyance',\n 'abeyancy',\n 'abeyant',\n 'abfarad',\n 'abhenry',\n 'abhiseka',\n 'abhominable',\n 'abhor',\n 'abhorrence',\n 'abhorrency',\n 'abhorrent',\n 'abhorrently',\n 'abhorrer',\n 'abhorrible',\n 'abhorring',\n 'abhorson',\n 'abidal',\n 'abidance',\n 'abide',\n 'abider',\n 'abidi',\n 'abiding',\n 'abidingly',\n 'abidingness',\n 'abie',\n 'abies',\n 'abietate',\n 'abietene',\n 'abietic',\n 'abietin',\n 'abietineae',\n 'abietineous',\n 'abietinic',\n 'abiezer',\n 'abigail',\n 'abigailship',\n 'abigeat',\n 'abigeus',\n 'abilao',\n 'ability',\n 'abilla',\n 'abilo',\n 'abintestate',\n 'abiogenesis',\n 'abiogenesist',\n 'abiogenetic',\n 'abiogenetical',\n 'abiogenetically',\n 'abiogenist',\n 'abiogenous',\n 'abiogeny',\n 'abiological',\n 'abiologically',\n 'abiology',\n 'abiosis',\n 'abiotic',\n 'abiotrophic',\n 'abiotrophy',\n 'abipon',\n 'abir',\n 'abirritant',\n 'abirritate',\n 'abirritation',\n 'abirritative',\n 'abiston',\n 'abitibi',\n 'abiuret',\n 'abject',\n 'abjectedness',\n 'abjection',\n 'abjective',\n 'abjectly',\n 'abjectness',\n 'abjoint',\n 'abjudge',\n 'abjudicate',\n 'abjudication',\n 'abjunction',\n 'abjunctive',\n 'abjuration',\n 'abjuratory',\n 'abjure',\n 'abjurement',\n 'abjurer',\n 'abkar',\n 'abkari',\n 'abkhas',\n 'abkhasian',\n 'ablach',\n 'ablactate',\n 'ablactation',\n 'ablare',\n 'ablastemic',\n 'ablastous',\n 'ablate',\n 'ablation',\n 'ablatitious',\n 'ablatival',\n 'ablative',\n 'ablator',\n 'ablaut',\n 'ablaze',\n 'able',\n 'ableeze',\n 'ablegate',\n 'ableness',\n 'ablepharia',\n 'ablepharon',\n 'ablepharous',\n 'ablepharus',\n 'ablepsia',\n 'ableptical',\n 'ableptically',\n 'abler',\n 'ablest',\n 'ablewhackets',\n 'ablins',\n 'abloom',\n 'ablow',\n 'ablude',\n 'abluent',\n 'ablush',\n 'ablution',\n 'ablutionary',\n 'abluvion',\n 'ably',\n 'abmho',\n 'abnaki',\n 'abnegate',\n 'abnegation',\n 'abnegative',\n 'abnegator',\n 'abner',\n 'abnerval',\n 'abnet',\n 'abneural',\n 'abnormal',\n 'abnormalism',\n 'abnormalist',\n 'abnormality',\n 'abnormalize',\n 'abnormally',\n 'abnormalness',\n 'abnormity',\n 'abnormous',\n 'abnumerable',\n 'abo',\n 'aboard',\n 'abobra',\n 'abode',\n 'abodement',\n 'abody',\n 'abohm',\n 'aboil',\n 'abolish',\n 'abolisher',\n 'abolishment',\n 'abolition',\n 'abolitionary',\n 'abolitionism',\n 'abolitionist',\n 'abolitionize',\n 'abolla',\n 'aboma',\n 'abomasum',\n 'abomasus',\n 'abominable',\n 'abominableness',\n 'abominably',\n 'abominate',\n 'abomination',\n 'abominator',\n 'abomine',\n 'abongo',\n 'aboon',\n 'aborad',\n 'aboral',\n 'aborally',\n 'abord',\n 'aboriginal',\n 'aboriginality',\n 'aboriginally',\n 'aboriginary',\n 'aborigine',\n 'abort',\n 'aborted',\n 'aborticide',\n 'abortient',\n 'abortifacient',\n 'abortin',\n 'abortion',\n 'abortional',\n 'abortionist',\n 'abortive',\n 'abortively',\n 'abortiveness',\n 'abortus',\n 'abouchement',\n 'abound',\n 'abounder',\n 'abounding',\n 'aboundingly',\n 'about',\n 'abouts',\n 'above',\n 'aboveboard',\n 'abovedeck',\n 'aboveground',\n 'aboveproof',\n 'abovestairs',\n 'abox',\n 'abracadabra',\n 'abrachia',\n 'abradant',\n 'abrade',\n 'abrader',\n 'abraham',\n 'abrahamic',\n 'abrahamidae',\n 'abrahamite',\n 'abrahamitic',\n 'abraid',\n 'abram',\n 'abramis',\n 'abranchial',\n 'abranchialism',\n 'abranchian',\n 'abranchiata',\n 'abranchiate',\n 'abranchious',\n 'abrasax',\n 'abrase',\n 'abrash',\n 'abrasiometer',\n 'abrasion',\n 'abrasive',\n 'abrastol',\n 'abraum',\n 'abraxas',\n 'abreact',\n 'abreaction',\n 'abreast',\n 'abrenounce',\n 'abret',\n 'abrico',\n 'abridge',\n 'abridgeable',\n 'abridged',\n 'abridgedly',\n 'abridger',\n 'abridgment',\n 'abrim',\n 'abrin',\n 'abristle',\n 'abroach',\n 'abroad',\n 'abrocoma',\n 'abrocome',\n 'abrogable',\n 'abrogate',\n 'abrogation',\n 'abrogative',\n 'abrogator',\n 'abroma',\n 'abronia',\n 'abrook',\n 'abrotanum',\n 'abrotine',\n 'abrupt',\n 'abruptedly',\n 'abruption',\n 'abruptly',\n 'abruptness',\n 'abrus',\n 'absalom',\n 'absampere',\n 'absaroka',\n 'absarokite',\n 'abscess',\n 'abscessed',\n 'abscession',\n 'abscessroot',\n 'abscind',\n 'abscise',\n 'abscision',\n 'absciss',\n 'abscissa',\n 'abscissae',\n 'abscisse',\n 'abscission',\n 'absconce',\n 'abscond',\n 'absconded',\n 'abscondedly',\n 'abscondence',\n 'absconder',\n 'absconsa',\n 'abscoulomb',\n 'absence',\n 'absent',\n 'absentation',\n 'absentee',\n 'absenteeism',\n 'absenteeship',\n 'absenter',\n 'absently',\n 'absentment',\n 'absentmindedly',\n 'absentness',\n 'absfarad',\n 'abshenry',\n 'absi',\n 'absinthe',\n 'absinthial',\n 'absinthian',\n 'absinthiate',\n 'absinthic',\n 'absinthin',\n 'absinthine',\n 'absinthism',\n 'absinthismic',\n 'absinthium',\n 'absinthol',\n 'absit',\n 'absmho',\n 'absohm',\n 'absolute',\n 'absolutely',\n 'absoluteness',\n 'absolution',\n 'absolutism',\n 'absolutist',\n 'absolutistic',\n 'absolutistically',\n 'absolutive',\n 'absolutization',\n 'absolutize',\n 'absolutory',\n 'absolvable',\n 'absolvatory',\n 'absolve',\n 'absolvent',\n 'absolver',\n 'absolvitor',\n 'absolvitory',\n 'absonant',\n 'absonous',\n 'absorb',\n 'absorbability',\n 'absorbable',\n 'absorbed',\n 'absorbedly',\n 'absorbedness',\n 'absorbefacient',\n 'absorbency',\n 'absorbent',\n 'absorber',\n 'absorbing',\n 'absorbingly',\n 'absorbition',\n 'absorpt',\n 'absorptance',\n 'absorptiometer',\n 'absorptiometric',\n 'absorption',\n 'absorptive',\n 'absorptively',\n 'absorptiveness',\n 'absorptivity',\n 'absquatulate',\n 'abstain',\n 'abstainer',\n 'abstainment',\n 'abstemious',\n 'abstemiously',\n 'abstemiousness',\n 'abstention',\n 'abstentionist',\n 'abstentious',\n 'absterge',\n 'abstergent',\n 'abstersion',\n 'abstersive',\n 'abstersiveness',\n 'abstinence',\n 'abstinency',\n 'abstinent',\n 'abstinential',\n 'abstinently',\n 'abstract',\n 'abstracted',\n 'abstractedly',\n 'abstractedness',\n 'abstracter',\n 'abstraction',\n 'abstractional',\n 'abstractionism',\n 'abstractionist',\n 'abstractitious',\n 'abstractive',\n 'abstractively',\n 'abstractiveness',\n 'abstractly',\n 'abstractness',\n 'abstractor',\n 'abstrahent',\n 'abstricted',\n 'abstriction',\n 'abstruse',\n 'abstrusely',\n 'abstruseness',\n 'abstrusion',\n 'abstrusity',\n 'absume',\n 'absumption',\n 'absurd',\n 'absurdity',\n 'absurdly',\n 'absurdness',\n 'absvolt',\n 'absyrtus',\n 'abterminal',\n 'abthain',\n 'abthainrie',\n 'abthainry',\n 'abthanage',\n 'abu',\n 'abucco',\n 'abulia',\n 'abulic',\n 'abulomania',\n 'abuna',\n 'abundance',\n 'abundancy',\n 'abundant',\n 'abundantia',\n 'abundantly',\n 'abura',\n 'aburabozu',\n 'aburban',\n 'aburst',\n 'aburton',\n 'abusable',\n 'abuse',\n 'abusedly',\n 'abusee',\n 'abuseful',\n 'abusefully',\n 'abusefulness',\n 'abuser',\n 'abusion',\n 'abusious',\n 'abusive',\n 'abusively',\n 'abusiveness',\n 'abut',\n 'abuta',\n 'abutilon',\n 'abutment',\n 'abuttal',\n 'abutter',\n 'abutting',\n 'abuzz',\n 'abvolt',\n 'abwab',\n 'aby',\n 'abysm',\n 'abysmal',\n 'abysmally',\n 'abyss',\n 'abyssal',\n 'abyssinian',\n 'abyssobenthonic',\n 'abyssolith',\n 'abyssopelagic',\n 'acacatechin',\n 'acacatechol',\n 'acacetin',\n 'acacia',\n 'acacian',\n 'acaciin',\n 'acacin',\n 'academe',\n 'academial',\n 'academian',\n 'academic',\n 'academical',\n 'academically',\n 'academicals',\n 'academician',\n 'academicism',\n 'academism',\n 'academist',\n 'academite',\n 'academization',\n 'academize',\n 'academus',\n 'academy',\n 'acadia',\n 'acadialite',\n 'acadian',\n 'acadie',\n 'acaena',\n 'acajou',\n 'acaleph',\n 'acalepha',\n 'acalephae',\n 'acalephan',\n 'acalephoid',\n 'acalycal',\n 'acalycine',\n 'acalycinous',\n 'acalyculate',\n 'acalypha',\n 'acalypterae',\n 'acalyptrata',\n 'acalyptratae',\n 'acalyptrate',\n 'acamar',\n 'acampsia',\n 'acana',\n 'acanaceous',\n 'acanonical',\n 'acanth',\n 'acantha',\n 'acanthaceae',\n 'acanthaceous',\n 'acanthad',\n 'acantharia',\n 'acanthia',\n 'acanthial',\n 'acanthin',\n 'acanthine',\n 'acanthion',\n 'acanthite',\n 'acanthocarpous',\n 'acanthocephala',\n 'acanthocephalan',\n 'acanthocephali',\n 'acanthocephalous',\n 'acanthocereus',\n 'acanthocladous',\n 'acanthodea',\n 'acanthodean',\n 'acanthodei',\n 'acanthodes',\n 'acanthodian',\n 'acanthodidae',\n 'acanthodii',\n 'acanthodini',\n 'acanthoid',\n 'acantholimon',\n 'acanthological',\n 'acanthology',\n 'acantholysis',\n 'acanthoma',\n 'acanthomeridae',\n 'acanthon',\n 'acanthopanax',\n 'acanthophis',\n 'acanthophorous',\n 'acanthopod',\n 'acanthopodous',\n 'acanthopomatous',\n 'acanthopore',\n 'acanthopteran',\n 'acanthopteri',\n 'acanthopterous',\n 'acanthopterygian',\n 'acanthopterygii',\n 'acanthosis',\n 'acanthous',\n 'acanthuridae',\n 'acanthurus',\n 'acanthus',\n 'acapnia',\n 'acapnial',\n 'acapsular',\n 'acapu',\n 'acapulco',\n 'acara',\n 'acarapis',\n 'acardia',\n 'acardiac',\n 'acari',\n 'acarian',\n 'acariasis',\n 'acaricidal',\n 'acaricide',\n 'acarid',\n 'acarida',\n 'acaridea',\n 'acaridean',\n 'acaridomatium',\n 'acariform',\n 'acarina',\n 'acarine',\n 'acarinosis',\n 'acarocecidium',\n 'acarodermatitis',\n 'acaroid',\n 'acarol',\n 'acarologist',\n 'acarology',\n 'acarophilous',\n 'acarophobia',\n 'acarotoxic',\n 'acarpelous',\n 'acarpous',\n 'acarus',\n 'acastus',\n 'acatalectic',\n 'acatalepsia',\n 'acatalepsy',\n 'acataleptic',\n 'acatallactic',\n 'acatamathesia',\n 'acataphasia',\n 'acataposis',\n 'acatastasia',\n 'acatastatic',\n 'acate',\n 'acategorical',\n 'acatery',\n 'acatharsia',\n 'acatharsy',\n 'acatholic',\n 'acaudal',\n 'acaudate',\n 'acaulescent',\n 'acauline',\n 'acaulose',\n 'acaulous',\n 'acca',\n 'accede',\n 'accedence',\n 'acceder',\n 'accelerable',\n 'accelerando',\n 'accelerant',\n 'accelerate',\n 'accelerated',\n 'acceleratedly',\n 'acceleration',\n 'accelerative',\n 'accelerator',\n 'acceleratory',\n 'accelerograph',\n 'accelerometer',\n 'accend',\n 'accendibility',\n 'accendible',\n 'accension',\n 'accensor',\n 'accent',\n 'accentless',\n 'accentor',\n 'accentuable',\n 'accentual',\n 'accentuality',\n 'accentually',\n 'accentuate',\n 'accentuation',\n 'accentuator',\n 'accentus',\n 'accept',\n 'acceptability',\n 'acceptable',\n 'acceptableness',\n 'acceptably',\n 'acceptance',\n 'acceptancy',\n 'acceptant',\n 'acceptation',\n 'accepted',\n 'acceptedly',\n 'accepter',\n 'acceptilate',\n 'acceptilation',\n 'acception',\n 'acceptive',\n 'acceptor',\n 'acceptress',\n 'accerse',\n 'accersition',\n 'accersitor',\n 'access',\n 'accessarily',\n 'accessariness',\n 'accessary',\n 'accessaryship',\n 'accessibility',\n 'accessible',\n 'accessibly',\n 'accession',\n 'accessional',\n 'accessioner',\n 'accessive',\n 'accessively',\n 'accessless',\n 'accessorial',\n 'accessorily',\n 'accessoriness',\n 'accessorius',\n 'accessory',\n 'accidence',\n 'accidency',\n 'accident',\n 'accidental',\n 'accidentalism',\n 'accidentalist',\n 'accidentality',\n 'accidentally',\n 'accidentalness',\n 'accidented',\n 'accidential',\n 'accidentiality',\n 'accidently',\n 'accidia',\n 'accidie',\n 'accinge',\n 'accipient',\n 'accipiter',\n 'accipitral',\n 'accipitrary',\n 'accipitres',\n 'accipitrine',\n 'accismus',\n 'accite',\n 'acclaim',\n 'acclaimable',\n 'acclaimer',\n 'acclamation',\n 'acclamator',\n 'acclamatory',\n 'acclimatable',\n 'acclimatation',\n 'acclimate',\n 'acclimatement',\n 'acclimation',\n 'acclimatizable',\n 'acclimatization',\n 'acclimatize',\n 'acclimatizer',\n 'acclimature',\n 'acclinal',\n 'acclinate',\n 'acclivitous',\n 'acclivity',\n 'acclivous',\n 'accloy',\n 'accoast',\n 'accoil',\n 'accolade',\n 'accoladed',\n 'accolated',\n 'accolent',\n 'accolle',\n 'accombination',\n 'accommodable',\n 'accommodableness',\n 'accommodate',\n 'accommodately',\n 'accommodateness',\n 'accommodating',\n 'accommodatingly',\n 'accommodation',\n 'accommodational',\n 'accommodative',\n 'accommodativeness',\n 'accommodator',\n 'accompanier',\n 'accompaniment',\n 'accompanimental',\n 'accompanist',\n 'accompany',\n 'accompanyist',\n 'accompletive',\n 'accomplice',\n 'accompliceship',\n 'accomplicity',\n 'accomplish',\n 'accomplishable',\n 'accomplished',\n 'accomplisher',\n 'accomplishment',\n 'accomplisht',\n 'accompt',\n 'accord',\n 'accordable',\n 'accordance',\n 'accordancy',\n 'accordant',\n 'accordantly',\n 'accorder',\n 'according',\n 'accordingly',\n 'accordion',\n ...]"
     },
     "metadata": {},
     "execution_count": 16
    }
   ],
   "source": [
    "words"
   ]
  },
  {
   "cell_type": "code",
   "execution_count": null,
   "metadata": {},
   "outputs": [],
   "source": [
    "# return a list of all lines from an open file \n",
    "open('francais.txt', 'r', encoding='latin1').readlines()"
   ]
  }
 ],
 "metadata": {
  "kernelspec": {
   "display_name": "Python 3",
   "language": "python",
   "name": "python3"
  },
  "language_info": {
   "codemirror_mode": {
    "name": "ipython",
    "version": 3
   },
   "file_extension": ".py",
   "mimetype": "text/x-python",
   "name": "python",
   "nbconvert_exporter": "python",
   "pygments_lexer": "ipython3",
   "version": "3.8.1-final"
  }
 },
 "nbformat": 4,
 "nbformat_minor": 2
}