{
 "cells": [
  {
   "cell_type": "markdown",
   "metadata": {},
   "source": [
    "# 06_02: Pandas DataFrames and Series"
   ]
  },
  {
   "cell_type": "code",
   "execution_count": 1,
   "metadata": {},
   "outputs": [],
   "source": [
    "import math\n",
    "import collections\n",
    "\n",
    "import numpy as np\n",
    "import pandas as pd\n",
    "import matplotlib.pyplot as pp\n",
    "\n",
    "%matplotlib inline"
   ]
  },
  {
   "cell_type": "code",
   "execution_count": 2,
   "metadata": {},
   "outputs": [],
   "source": [
    "pd.options.display.max_rows = 16"
   ]
  },
  {
   "cell_type": "code",
   "execution_count": 3,
   "metadata": {},
   "outputs": [],
   "source": [
    "nobels = pd.read_csv('nobels.csv', names=['year','discipline','nobelist'])"
   ]
  },
  {
   "cell_type": "code",
   "execution_count": 7,
   "metadata": {},
   "outputs": [
    {
     "output_type": "stream",
     "name": "stdout",
     "text": "<class 'pandas.core.frame.DataFrame'>\nRangeIndex: 950 entries, 0 to 949\nData columns (total 3 columns):\n #   Column      Non-Null Count  Dtype \n---  ------      --------------  ----- \n 0   year        950 non-null    int64 \n 1   discipline  950 non-null    object\n 2   nobelist    950 non-null    object\ndtypes: int64(1), object(2)\nmemory usage: 22.4+ KB\n"
    }
   ],
   "source": [
    "nobels.info()"
   ]
  },
  {
   "cell_type": "code",
   "execution_count": 4,
   "metadata": {},
   "outputs": [
    {
     "output_type": "execute_result",
     "data": {
      "text/plain": "   year  discipline                      nobelist\n0  1901   Chemistry  Jacobus Henricus van 't Hoff\n1  1901  Literature               Sully Prudhomme\n2  1901    Medicine        Emil Adolf von Behring\n3  1901       Peace                Frédéric Passy\n4  1901       Peace                  Henry Dunant",
      "text/html": "<div>\n<style scoped>\n    .dataframe tbody tr th:only-of-type {\n        vertical-align: middle;\n    }\n\n    .dataframe tbody tr th {\n        vertical-align: top;\n    }\n\n    .dataframe thead th {\n        text-align: right;\n    }\n</style>\n<table border=\"1\" class=\"dataframe\">\n  <thead>\n    <tr style=\"text-align: right;\">\n      <th></th>\n      <th>year</th>\n      <th>discipline</th>\n      <th>nobelist</th>\n    </tr>\n  </thead>\n  <tbody>\n    <tr>\n      <th>0</th>\n      <td>1901</td>\n      <td>Chemistry</td>\n      <td>Jacobus Henricus van 't Hoff</td>\n    </tr>\n    <tr>\n      <th>1</th>\n      <td>1901</td>\n      <td>Literature</td>\n      <td>Sully Prudhomme</td>\n    </tr>\n    <tr>\n      <th>2</th>\n      <td>1901</td>\n      <td>Medicine</td>\n      <td>Emil Adolf von Behring</td>\n    </tr>\n    <tr>\n      <th>3</th>\n      <td>1901</td>\n      <td>Peace</td>\n      <td>Frédéric Passy</td>\n    </tr>\n    <tr>\n      <th>4</th>\n      <td>1901</td>\n      <td>Peace</td>\n      <td>Henry Dunant</td>\n    </tr>\n  </tbody>\n</table>\n</div>"
     },
     "metadata": {},
     "execution_count": 4
    }
   ],
   "source": [
    "nobels.head()"
   ]
  },
  {
   "cell_type": "code",
   "execution_count": 5,
   "metadata": {},
   "outputs": [
    {
     "output_type": "execute_result",
     "data": {
      "text/plain": "     year discipline            nobelist\n945  2019   Medicine  William Kaelin Jr.\n946  2019      Peace          Abiy Ahmed\n947  2019    Physics       Didier Queloz\n948  2019    Physics       James Peebles\n949  2019    Physics        Michel Mayor",
      "text/html": "<div>\n<style scoped>\n    .dataframe tbody tr th:only-of-type {\n        vertical-align: middle;\n    }\n\n    .dataframe tbody tr th {\n        vertical-align: top;\n    }\n\n    .dataframe thead th {\n        text-align: right;\n    }\n</style>\n<table border=\"1\" class=\"dataframe\">\n  <thead>\n    <tr style=\"text-align: right;\">\n      <th></th>\n      <th>year</th>\n      <th>discipline</th>\n      <th>nobelist</th>\n    </tr>\n  </thead>\n  <tbody>\n    <tr>\n      <th>945</th>\n      <td>2019</td>\n      <td>Medicine</td>\n      <td>William Kaelin Jr.</td>\n    </tr>\n    <tr>\n      <th>946</th>\n      <td>2019</td>\n      <td>Peace</td>\n      <td>Abiy Ahmed</td>\n    </tr>\n    <tr>\n      <th>947</th>\n      <td>2019</td>\n      <td>Physics</td>\n      <td>Didier Queloz</td>\n    </tr>\n    <tr>\n      <th>948</th>\n      <td>2019</td>\n      <td>Physics</td>\n      <td>James Peebles</td>\n    </tr>\n    <tr>\n      <th>949</th>\n      <td>2019</td>\n      <td>Physics</td>\n      <td>Michel Mayor</td>\n    </tr>\n  </tbody>\n</table>\n</div>"
     },
     "metadata": {},
     "execution_count": 5
    }
   ],
   "source": [
    "nobels.tail()"
   ]
  },
  {
   "cell_type": "code",
   "execution_count": 6,
   "metadata": {},
   "outputs": [
    {
     "output_type": "execute_result",
     "data": {
      "text/plain": "950"
     },
     "metadata": {},
     "execution_count": 6
    }
   ],
   "source": [
    "len(nobels)"
   ]
  },
  {
   "cell_type": "code",
   "execution_count": 7,
   "metadata": {},
   "outputs": [
    {
     "output_type": "execute_result",
     "data": {
      "text/plain": "Index(['year', 'discipline', 'nobelist'], dtype='object')"
     },
     "metadata": {},
     "execution_count": 7
    }
   ],
   "source": [
    "nobels.columns"
   ]
  },
  {
   "cell_type": "code",
   "execution_count": 11,
   "metadata": {},
   "outputs": [
    {
     "output_type": "execute_result",
     "data": {
      "text/plain": "year           int64\ndiscipline    object\nnobelist      object\ndtype: object"
     },
     "metadata": {},
     "execution_count": 11
    }
   ],
   "source": [
    "nobels.dtypes"
   ]
  },
  {
   "cell_type": "code",
   "execution_count": 8,
   "metadata": {},
   "outputs": [
    {
     "output_type": "execute_result",
     "data": {
      "text/plain": "RangeIndex(start=0, stop=950, step=1)"
     },
     "metadata": {},
     "execution_count": 8
    }
   ],
   "source": [
    "nobels.index"
   ]
  },
  {
   "cell_type": "code",
   "execution_count": 13,
   "metadata": {},
   "outputs": [
    {
     "output_type": "execute_result",
     "data": {
      "text/plain": "0       Chemistry\n1      Literature\n2        Medicine\n3           Peace\n4           Peace\n          ...    \n945      Medicine\n946         Peace\n947       Physics\n948       Physics\n949       Physics\nName: discipline, Length: 950, dtype: object"
     },
     "metadata": {},
     "execution_count": 13
    }
   ],
   "source": [
    "nobels['discipline']"
   ]
  },
  {
   "cell_type": "code",
   "execution_count": 9,
   "metadata": {},
   "outputs": [
    {
     "output_type": "execute_result",
     "data": {
      "text/plain": "0      Jacobus Henricus van 't Hoff\n1                   Sully Prudhomme\n2            Emil Adolf von Behring\n3                    Frédéric Passy\n4                      Henry Dunant\n                   ...             \n945              William Kaelin Jr.\n946                      Abiy Ahmed\n947                   Didier Queloz\n948                   James Peebles\n949                    Michel Mayor\nName: nobelist, Length: 950, dtype: object"
     },
     "metadata": {},
     "execution_count": 9
    }
   ],
   "source": [
    "nobels.nobelist"
   ]
  },
  {
   "cell_type": "code",
   "execution_count": 10,
   "metadata": {},
   "outputs": [
    {
     "output_type": "execute_result",
     "data": {
      "text/plain": "array(['Chemistry', 'Literature', 'Medicine', 'Peace', 'Peace', 'Physics',\n       'Chemistry', 'Literature', 'Medicine', 'Peace', 'Peace', 'Physics',\n       'Physics', 'Chemistry', 'Literature', 'Medicine', 'Peace',\n       'Physics', 'Physics', 'Physics', 'Chemistry', 'Literature',\n       'Literature', 'Medicine', 'Peace', 'Physics', 'Chemistry',\n       'Literature', 'Medicine', 'Peace', 'Physics', 'Chemistry',\n       'Literature', 'Medicine', 'Medicine', 'Peace', 'Physics',\n       'Chemistry', 'Literature', 'Medicine', 'Peace', 'Peace', 'Physics',\n       'Chemistry', 'Literature', 'Medicine', 'Medicine', 'Peace',\n       'Peace', 'Physics'], dtype=object)"
     },
     "metadata": {},
     "execution_count": 10
    }
   ],
   "source": [
    "nobels.discipline.values[:50]"
   ]
  },
  {
   "cell_type": "code",
   "execution_count": 11,
   "metadata": {},
   "outputs": [
    {
     "output_type": "execute_result",
     "data": {
      "text/plain": "array(['Chemistry', 'Literature', 'Medicine', 'Peace', 'Physics',\n       'Economics'], dtype=object)"
     },
     "metadata": {},
     "execution_count": 11
    }
   ],
   "source": [
    "nobels.discipline.unique()"
   ]
  },
  {
   "cell_type": "code",
   "execution_count": 17,
   "metadata": {},
   "outputs": [
    {
     "output_type": "execute_result",
     "data": {
      "text/plain": "International Committee of the Red Cross         3\nFrederick Sanger                                 2\nJohn Bardeen                                     2\nUnited Nations High Commissioner for Refugees    2\nLinus Pauling                                    2\n                                                ..\nShmuel Yosef Agnon                               1\nOtto Heinrich Warburg                            1\nTheodore Schultz                                 1\nRabindranath Tagore                              1\nInternational Peace Bureau                       1\nName: nobelist, Length: 943, dtype: int64"
     },
     "metadata": {},
     "execution_count": 17
    }
   ],
   "source": [
    "nobels.nobelist.value_counts()"
   ]
  },
  {
   "cell_type": "code",
   "execution_count": 12,
   "metadata": {},
   "outputs": [
    {
     "output_type": "execute_result",
     "data": {
      "text/plain": "     year discipline          nobelist\n5    1901    Physics   Wilhelm Röntgen\n11   1902    Physics   Hendrik Lorentz\n12   1902    Physics     Pieter Zeeman\n17   1903    Physics   Henri Becquerel\n18   1903    Physics       Marie Curie\n..    ...        ...               ...\n934  2018    Physics  Donna Strickland\n935  2018    Physics     Gérard Mourou\n947  2019    Physics     Didier Queloz\n948  2019    Physics     James Peebles\n949  2019    Physics      Michel Mayor\n\n[213 rows x 3 columns]",
      "text/html": "<div>\n<style scoped>\n    .dataframe tbody tr th:only-of-type {\n        vertical-align: middle;\n    }\n\n    .dataframe tbody tr th {\n        vertical-align: top;\n    }\n\n    .dataframe thead th {\n        text-align: right;\n    }\n</style>\n<table border=\"1\" class=\"dataframe\">\n  <thead>\n    <tr style=\"text-align: right;\">\n      <th></th>\n      <th>year</th>\n      <th>discipline</th>\n      <th>nobelist</th>\n    </tr>\n  </thead>\n  <tbody>\n    <tr>\n      <th>5</th>\n      <td>1901</td>\n      <td>Physics</td>\n      <td>Wilhelm Röntgen</td>\n    </tr>\n    <tr>\n      <th>11</th>\n      <td>1902</td>\n      <td>Physics</td>\n      <td>Hendrik Lorentz</td>\n    </tr>\n    <tr>\n      <th>12</th>\n      <td>1902</td>\n      <td>Physics</td>\n      <td>Pieter Zeeman</td>\n    </tr>\n    <tr>\n      <th>17</th>\n      <td>1903</td>\n      <td>Physics</td>\n      <td>Henri Becquerel</td>\n    </tr>\n    <tr>\n      <th>18</th>\n      <td>1903</td>\n      <td>Physics</td>\n      <td>Marie Curie</td>\n    </tr>\n    <tr>\n      <th>...</th>\n      <td>...</td>\n      <td>...</td>\n      <td>...</td>\n    </tr>\n    <tr>\n      <th>934</th>\n      <td>2018</td>\n      <td>Physics</td>\n      <td>Donna Strickland</td>\n    </tr>\n    <tr>\n      <th>935</th>\n      <td>2018</td>\n      <td>Physics</td>\n      <td>Gérard Mourou</td>\n    </tr>\n    <tr>\n      <th>947</th>\n      <td>2019</td>\n      <td>Physics</td>\n      <td>Didier Queloz</td>\n    </tr>\n    <tr>\n      <th>948</th>\n      <td>2019</td>\n      <td>Physics</td>\n      <td>James Peebles</td>\n    </tr>\n    <tr>\n      <th>949</th>\n      <td>2019</td>\n      <td>Physics</td>\n      <td>Michel Mayor</td>\n    </tr>\n  </tbody>\n</table>\n<p>213 rows × 3 columns</p>\n</div>"
     },
     "metadata": {},
     "execution_count": 12
    }
   ],
   "source": [
    "# select rows by building a Boolean mask, and using it as fancy index\n",
    "nobels[nobels.discipline == 'Physics']"
   ]
  },
  {
   "cell_type": "code",
   "execution_count": 19,
   "metadata": {},
   "outputs": [
    {
     "output_type": "execute_result",
     "data": {
      "text/plain": "     year discipline                      nobelist\n0    1901  Chemistry  Jacobus Henricus van 't Hoff\n6    1902  Chemistry          Hermann Emil Fischer\n13   1903  Chemistry              Svante Arrhenius\n20   1904  Chemistry                William Ramsay\n26   1905  Chemistry              Adolf von Baeyer\n..    ...        ...                           ...\n924  2018  Chemistry               George P. Smith\n925  2018  Chemistry                   Greg Winter\n936  2019  Chemistry                 Akira Yoshino\n937  2019  Chemistry            John B. Goodenough\n938  2019  Chemistry        M. Stanley Whittingham\n\n[184 rows x 3 columns]",
      "text/html": "<div>\n<style scoped>\n    .dataframe tbody tr th:only-of-type {\n        vertical-align: middle;\n    }\n\n    .dataframe tbody tr th {\n        vertical-align: top;\n    }\n\n    .dataframe thead th {\n        text-align: right;\n    }\n</style>\n<table border=\"1\" class=\"dataframe\">\n  <thead>\n    <tr style=\"text-align: right;\">\n      <th></th>\n      <th>year</th>\n      <th>discipline</th>\n      <th>nobelist</th>\n    </tr>\n  </thead>\n  <tbody>\n    <tr>\n      <th>0</th>\n      <td>1901</td>\n      <td>Chemistry</td>\n      <td>Jacobus Henricus van 't Hoff</td>\n    </tr>\n    <tr>\n      <th>6</th>\n      <td>1902</td>\n      <td>Chemistry</td>\n      <td>Hermann Emil Fischer</td>\n    </tr>\n    <tr>\n      <th>13</th>\n      <td>1903</td>\n      <td>Chemistry</td>\n      <td>Svante Arrhenius</td>\n    </tr>\n    <tr>\n      <th>20</th>\n      <td>1904</td>\n      <td>Chemistry</td>\n      <td>William Ramsay</td>\n    </tr>\n    <tr>\n      <th>26</th>\n      <td>1905</td>\n      <td>Chemistry</td>\n      <td>Adolf von Baeyer</td>\n    </tr>\n    <tr>\n      <th>...</th>\n      <td>...</td>\n      <td>...</td>\n      <td>...</td>\n    </tr>\n    <tr>\n      <th>924</th>\n      <td>2018</td>\n      <td>Chemistry</td>\n      <td>George P. Smith</td>\n    </tr>\n    <tr>\n      <th>925</th>\n      <td>2018</td>\n      <td>Chemistry</td>\n      <td>Greg Winter</td>\n    </tr>\n    <tr>\n      <th>936</th>\n      <td>2019</td>\n      <td>Chemistry</td>\n      <td>Akira Yoshino</td>\n    </tr>\n    <tr>\n      <th>937</th>\n      <td>2019</td>\n      <td>Chemistry</td>\n      <td>John B. Goodenough</td>\n    </tr>\n    <tr>\n      <th>938</th>\n      <td>2019</td>\n      <td>Chemistry</td>\n      <td>M. Stanley Whittingham</td>\n    </tr>\n  </tbody>\n</table>\n<p>184 rows × 3 columns</p>\n</div>"
     },
     "metadata": {},
     "execution_count": 19
    }
   ],
   "source": [
    "# select rows by the string-expression-based query interface\n",
    "nobels.query('discipline == \"Chemistry\"')"
   ]
  },
  {
   "cell_type": "code",
   "execution_count": 13,
   "metadata": {},
   "outputs": [
    {
     "output_type": "error",
     "ename": "KeyError",
     "evalue": "False",
     "traceback": [
      "\u001b[0;31m---------------------------------------------------------------------------\u001b[0m",
      "\u001b[0;31mKeyError\u001b[0m                                  Traceback (most recent call last)",
      "\u001b[0;32m/Library/Frameworks/Python.framework/Versions/3.8/lib/python3.8/site-packages/pandas/core/indexes/base.py\u001b[0m in \u001b[0;36mget_loc\u001b[0;34m(self, key, method, tolerance)\u001b[0m\n\u001b[1;32m   2645\u001b[0m             \u001b[0;32mtry\u001b[0m\u001b[0;34m:\u001b[0m\u001b[0;34m\u001b[0m\u001b[0;34m\u001b[0m\u001b[0m\n\u001b[0;32m-> 2646\u001b[0;31m                 \u001b[0;32mreturn\u001b[0m \u001b[0mself\u001b[0m\u001b[0;34m.\u001b[0m\u001b[0m_engine\u001b[0m\u001b[0;34m.\u001b[0m\u001b[0mget_loc\u001b[0m\u001b[0;34m(\u001b[0m\u001b[0mkey\u001b[0m\u001b[0;34m)\u001b[0m\u001b[0;34m\u001b[0m\u001b[0;34m\u001b[0m\u001b[0m\n\u001b[0m\u001b[1;32m   2647\u001b[0m             \u001b[0;32mexcept\u001b[0m \u001b[0mKeyError\u001b[0m\u001b[0;34m:\u001b[0m\u001b[0;34m\u001b[0m\u001b[0;34m\u001b[0m\u001b[0m\n",
      "\u001b[0;32mpandas/_libs/index.pyx\u001b[0m in \u001b[0;36mpandas._libs.index.IndexEngine.get_loc\u001b[0;34m()\u001b[0m\n",
      "\u001b[0;32mpandas/_libs/index.pyx\u001b[0m in \u001b[0;36mpandas._libs.index.IndexEngine.get_loc\u001b[0;34m()\u001b[0m\n",
      "\u001b[0;32mpandas/_libs/hashtable_class_helper.pxi\u001b[0m in \u001b[0;36mpandas._libs.hashtable.PyObjectHashTable.get_item\u001b[0;34m()\u001b[0m\n",
      "\u001b[0;32mpandas/_libs/hashtable_class_helper.pxi\u001b[0m in \u001b[0;36mpandas._libs.hashtable.PyObjectHashTable.get_item\u001b[0;34m()\u001b[0m\n",
      "\u001b[0;31mKeyError\u001b[0m: False",
      "\nDuring handling of the above exception, another exception occurred:\n",
      "\u001b[0;31mKeyError\u001b[0m                                  Traceback (most recent call last)",
      "\u001b[0;32m<ipython-input-13-a165f8581525>\u001b[0m in \u001b[0;36m<module>\u001b[0;34m\u001b[0m\n\u001b[0;32m----> 1\u001b[0;31m \u001b[0mnobels\u001b[0m\u001b[0;34m[\u001b[0m\u001b[0;34m'Curie'\u001b[0m \u001b[0;32min\u001b[0m \u001b[0mnobels\u001b[0m\u001b[0;34m.\u001b[0m\u001b[0mnobelist\u001b[0m\u001b[0;34m]\u001b[0m\u001b[0;34m\u001b[0m\u001b[0;34m\u001b[0m\u001b[0m\n\u001b[0m",
      "\u001b[0;32m/Library/Frameworks/Python.framework/Versions/3.8/lib/python3.8/site-packages/pandas/core/frame.py\u001b[0m in \u001b[0;36m__getitem__\u001b[0;34m(self, key)\u001b[0m\n\u001b[1;32m   2798\u001b[0m             \u001b[0;32mif\u001b[0m \u001b[0mself\u001b[0m\u001b[0;34m.\u001b[0m\u001b[0mcolumns\u001b[0m\u001b[0;34m.\u001b[0m\u001b[0mnlevels\u001b[0m \u001b[0;34m>\u001b[0m \u001b[0;36m1\u001b[0m\u001b[0;34m:\u001b[0m\u001b[0;34m\u001b[0m\u001b[0;34m\u001b[0m\u001b[0m\n\u001b[1;32m   2799\u001b[0m                 \u001b[0;32mreturn\u001b[0m \u001b[0mself\u001b[0m\u001b[0;34m.\u001b[0m\u001b[0m_getitem_multilevel\u001b[0m\u001b[0;34m(\u001b[0m\u001b[0mkey\u001b[0m\u001b[0;34m)\u001b[0m\u001b[0;34m\u001b[0m\u001b[0;34m\u001b[0m\u001b[0m\n\u001b[0;32m-> 2800\u001b[0;31m             \u001b[0mindexer\u001b[0m \u001b[0;34m=\u001b[0m \u001b[0mself\u001b[0m\u001b[0;34m.\u001b[0m\u001b[0mcolumns\u001b[0m\u001b[0;34m.\u001b[0m\u001b[0mget_loc\u001b[0m\u001b[0;34m(\u001b[0m\u001b[0mkey\u001b[0m\u001b[0;34m)\u001b[0m\u001b[0;34m\u001b[0m\u001b[0;34m\u001b[0m\u001b[0m\n\u001b[0m\u001b[1;32m   2801\u001b[0m             \u001b[0;32mif\u001b[0m \u001b[0mis_integer\u001b[0m\u001b[0;34m(\u001b[0m\u001b[0mindexer\u001b[0m\u001b[0;34m)\u001b[0m\u001b[0;34m:\u001b[0m\u001b[0;34m\u001b[0m\u001b[0;34m\u001b[0m\u001b[0m\n\u001b[1;32m   2802\u001b[0m                 \u001b[0mindexer\u001b[0m \u001b[0;34m=\u001b[0m \u001b[0;34m[\u001b[0m\u001b[0mindexer\u001b[0m\u001b[0;34m]\u001b[0m\u001b[0;34m\u001b[0m\u001b[0;34m\u001b[0m\u001b[0m\n",
      "\u001b[0;32m/Library/Frameworks/Python.framework/Versions/3.8/lib/python3.8/site-packages/pandas/core/indexes/base.py\u001b[0m in \u001b[0;36mget_loc\u001b[0;34m(self, key, method, tolerance)\u001b[0m\n\u001b[1;32m   2646\u001b[0m                 \u001b[0;32mreturn\u001b[0m \u001b[0mself\u001b[0m\u001b[0;34m.\u001b[0m\u001b[0m_engine\u001b[0m\u001b[0;34m.\u001b[0m\u001b[0mget_loc\u001b[0m\u001b[0;34m(\u001b[0m\u001b[0mkey\u001b[0m\u001b[0;34m)\u001b[0m\u001b[0;34m\u001b[0m\u001b[0;34m\u001b[0m\u001b[0m\n\u001b[1;32m   2647\u001b[0m             \u001b[0;32mexcept\u001b[0m \u001b[0mKeyError\u001b[0m\u001b[0;34m:\u001b[0m\u001b[0;34m\u001b[0m\u001b[0;34m\u001b[0m\u001b[0m\n\u001b[0;32m-> 2648\u001b[0;31m                 \u001b[0;32mreturn\u001b[0m \u001b[0mself\u001b[0m\u001b[0;34m.\u001b[0m\u001b[0m_engine\u001b[0m\u001b[0;34m.\u001b[0m\u001b[0mget_loc\u001b[0m\u001b[0;34m(\u001b[0m\u001b[0mself\u001b[0m\u001b[0;34m.\u001b[0m\u001b[0m_maybe_cast_indexer\u001b[0m\u001b[0;34m(\u001b[0m\u001b[0mkey\u001b[0m\u001b[0;34m)\u001b[0m\u001b[0;34m)\u001b[0m\u001b[0;34m\u001b[0m\u001b[0;34m\u001b[0m\u001b[0m\n\u001b[0m\u001b[1;32m   2649\u001b[0m         \u001b[0mindexer\u001b[0m \u001b[0;34m=\u001b[0m \u001b[0mself\u001b[0m\u001b[0;34m.\u001b[0m\u001b[0mget_indexer\u001b[0m\u001b[0;34m(\u001b[0m\u001b[0;34m[\u001b[0m\u001b[0mkey\u001b[0m\u001b[0;34m]\u001b[0m\u001b[0;34m,\u001b[0m \u001b[0mmethod\u001b[0m\u001b[0;34m=\u001b[0m\u001b[0mmethod\u001b[0m\u001b[0;34m,\u001b[0m \u001b[0mtolerance\u001b[0m\u001b[0;34m=\u001b[0m\u001b[0mtolerance\u001b[0m\u001b[0;34m)\u001b[0m\u001b[0;34m\u001b[0m\u001b[0;34m\u001b[0m\u001b[0m\n\u001b[1;32m   2650\u001b[0m         \u001b[0;32mif\u001b[0m \u001b[0mindexer\u001b[0m\u001b[0;34m.\u001b[0m\u001b[0mndim\u001b[0m \u001b[0;34m>\u001b[0m \u001b[0;36m1\u001b[0m \u001b[0;32mor\u001b[0m \u001b[0mindexer\u001b[0m\u001b[0;34m.\u001b[0m\u001b[0msize\u001b[0m \u001b[0;34m>\u001b[0m \u001b[0;36m1\u001b[0m\u001b[0;34m:\u001b[0m\u001b[0;34m\u001b[0m\u001b[0;34m\u001b[0m\u001b[0m\n",
      "\u001b[0;32mpandas/_libs/index.pyx\u001b[0m in \u001b[0;36mpandas._libs.index.IndexEngine.get_loc\u001b[0;34m()\u001b[0m\n",
      "\u001b[0;32mpandas/_libs/index.pyx\u001b[0m in \u001b[0;36mpandas._libs.index.IndexEngine.get_loc\u001b[0;34m()\u001b[0m\n",
      "\u001b[0;32mpandas/_libs/hashtable_class_helper.pxi\u001b[0m in \u001b[0;36mpandas._libs.hashtable.PyObjectHashTable.get_item\u001b[0;34m()\u001b[0m\n",
      "\u001b[0;32mpandas/_libs/hashtable_class_helper.pxi\u001b[0m in \u001b[0;36mpandas._libs.hashtable.PyObjectHashTable.get_item\u001b[0;34m()\u001b[0m\n",
      "\u001b[0;31mKeyError\u001b[0m: False"
     ]
    }
   ],
   "source": [
    "nobels['Curie' in nobels.nobelist]"
   ]
  },
  {
   "cell_type": "code",
   "execution_count": 21,
   "metadata": {},
   "outputs": [
    {
     "output_type": "execute_result",
     "data": {
      "text/plain": "     year discipline               nobelist\n18   1903    Physics            Marie Curie\n19   1903    Physics           Pierre Curie\n62   1911  Chemistry            Marie Curie\n178  1935  Chemistry  Frédéric Joliot-Curie\n179  1935  Chemistry     Irène Joliot-Curie",
      "text/html": "<div>\n<style scoped>\n    .dataframe tbody tr th:only-of-type {\n        vertical-align: middle;\n    }\n\n    .dataframe tbody tr th {\n        vertical-align: top;\n    }\n\n    .dataframe thead th {\n        text-align: right;\n    }\n</style>\n<table border=\"1\" class=\"dataframe\">\n  <thead>\n    <tr style=\"text-align: right;\">\n      <th></th>\n      <th>year</th>\n      <th>discipline</th>\n      <th>nobelist</th>\n    </tr>\n  </thead>\n  <tbody>\n    <tr>\n      <th>18</th>\n      <td>1903</td>\n      <td>Physics</td>\n      <td>Marie Curie</td>\n    </tr>\n    <tr>\n      <th>19</th>\n      <td>1903</td>\n      <td>Physics</td>\n      <td>Pierre Curie</td>\n    </tr>\n    <tr>\n      <th>62</th>\n      <td>1911</td>\n      <td>Chemistry</td>\n      <td>Marie Curie</td>\n    </tr>\n    <tr>\n      <th>178</th>\n      <td>1935</td>\n      <td>Chemistry</td>\n      <td>Frédéric Joliot-Curie</td>\n    </tr>\n    <tr>\n      <th>179</th>\n      <td>1935</td>\n      <td>Chemistry</td>\n      <td>Irène Joliot-Curie</td>\n    </tr>\n  </tbody>\n</table>\n</div>"
     },
     "metadata": {},
     "execution_count": 21
    }
   ],
   "source": [
    "# Series.str methods perform operations on Series values as strings;\n",
    "# \"contains\" tests if a pattern is contained in each element;\n",
    "# so we select the rows in which the field \"nobelist\" contains \"Curie\"\n",
    "\n",
    "nobels[nobels.nobelist.str.contains('Curie')]"
   ]
  },
  {
   "cell_type": "code",
   "execution_count": 14,
   "metadata": {},
   "outputs": [],
   "source": [
    "disco = np.load('discography.npy')"
   ]
  },
  {
   "cell_type": "code",
   "execution_count": 23,
   "metadata": {},
   "outputs": [
    {
     "output_type": "execute_result",
     "data": {
      "text/plain": "array([('David Bowie', '1969-11-14', 17),\n       ('The Man Who Sold the World', '1970-11-04',  3),\n       ('Hunky Dory', '1971-12-17',  5),\n       ('Ziggy Stardust', '1972-06-16',  1),\n       ('Aladdin Sane', '1973-04-13',  1), ('Pin Ups', '1973-10-19',  1),\n       ('Diamond Dogs', '1974-05-24',  1),\n       ('Young Americans', '1975-03-07',  2),\n       ('Station To Station', '1976-01-23',  5),\n       ('Low', '1977-01-14',  2), ('Heroes', '1977-10-14',  3),\n       ('Lodger', '1979-05-18',  4)],\n      dtype=[('title', '<U32'), ('release', '<M8[D]'), ('toprank', '<i8')])"
     },
     "metadata": {},
     "execution_count": 23
    }
   ],
   "source": [
    "disco"
   ]
  },
  {
   "cell_type": "code",
   "execution_count": 15,
   "metadata": {},
   "outputs": [],
   "source": [
    "disco_df = pd.DataFrame(disco)"
   ]
  },
  {
   "cell_type": "code",
   "execution_count": 25,
   "metadata": {},
   "outputs": [
    {
     "output_type": "execute_result",
     "data": {
      "text/plain": "                         title    release  toprank\n0                  David Bowie 1969-11-14       17\n1   The Man Who Sold the World 1970-11-04        3\n2                   Hunky Dory 1971-12-17        5\n3               Ziggy Stardust 1972-06-16        1\n4                 Aladdin Sane 1973-04-13        1\n5                      Pin Ups 1973-10-19        1\n6                 Diamond Dogs 1974-05-24        1\n7              Young Americans 1975-03-07        2\n8           Station To Station 1976-01-23        5\n9                          Low 1977-01-14        2\n10                      Heroes 1977-10-14        3\n11                      Lodger 1979-05-18        4",
      "text/html": "<div>\n<style scoped>\n    .dataframe tbody tr th:only-of-type {\n        vertical-align: middle;\n    }\n\n    .dataframe tbody tr th {\n        vertical-align: top;\n    }\n\n    .dataframe thead th {\n        text-align: right;\n    }\n</style>\n<table border=\"1\" class=\"dataframe\">\n  <thead>\n    <tr style=\"text-align: right;\">\n      <th></th>\n      <th>title</th>\n      <th>release</th>\n      <th>toprank</th>\n    </tr>\n  </thead>\n  <tbody>\n    <tr>\n      <th>0</th>\n      <td>David Bowie</td>\n      <td>1969-11-14</td>\n      <td>17</td>\n    </tr>\n    <tr>\n      <th>1</th>\n      <td>The Man Who Sold the World</td>\n      <td>1970-11-04</td>\n      <td>3</td>\n    </tr>\n    <tr>\n      <th>2</th>\n      <td>Hunky Dory</td>\n      <td>1971-12-17</td>\n      <td>5</td>\n    </tr>\n    <tr>\n      <th>3</th>\n      <td>Ziggy Stardust</td>\n      <td>1972-06-16</td>\n      <td>1</td>\n    </tr>\n    <tr>\n      <th>4</th>\n      <td>Aladdin Sane</td>\n      <td>1973-04-13</td>\n      <td>1</td>\n    </tr>\n    <tr>\n      <th>5</th>\n      <td>Pin Ups</td>\n      <td>1973-10-19</td>\n      <td>1</td>\n    </tr>\n    <tr>\n      <th>6</th>\n      <td>Diamond Dogs</td>\n      <td>1974-05-24</td>\n      <td>1</td>\n    </tr>\n    <tr>\n      <th>7</th>\n      <td>Young Americans</td>\n      <td>1975-03-07</td>\n      <td>2</td>\n    </tr>\n    <tr>\n      <th>8</th>\n      <td>Station To Station</td>\n      <td>1976-01-23</td>\n      <td>5</td>\n    </tr>\n    <tr>\n      <th>9</th>\n      <td>Low</td>\n      <td>1977-01-14</td>\n      <td>2</td>\n    </tr>\n    <tr>\n      <th>10</th>\n      <td>Heroes</td>\n      <td>1977-10-14</td>\n      <td>3</td>\n    </tr>\n    <tr>\n      <th>11</th>\n      <td>Lodger</td>\n      <td>1979-05-18</td>\n      <td>4</td>\n    </tr>\n  </tbody>\n</table>\n</div>"
     },
     "metadata": {},
     "execution_count": 25
    }
   ],
   "source": [
    "disco_df"
   ]
  },
  {
   "cell_type": "code",
   "execution_count": 16,
   "metadata": {},
   "outputs": [
    {
     "output_type": "execute_result",
     "data": {
      "text/plain": "title              object\nrelease    datetime64[ns]\ntoprank             int64\ndtype: object"
     },
     "metadata": {},
     "execution_count": 16
    }
   ],
   "source": [
    "disco_df.dtypes"
   ]
  },
  {
   "cell_type": "code",
   "execution_count": 27,
   "metadata": {},
   "outputs": [
    {
     "output_type": "execute_result",
     "data": {
      "text/plain": "                        title  year\n0                 David Bowie  1969\n1  The Man Who Sold the World  1970\n2                  Hunky Dory  1971",
      "text/html": "<div>\n<style scoped>\n    .dataframe tbody tr th:only-of-type {\n        vertical-align: middle;\n    }\n\n    .dataframe tbody tr th {\n        vertical-align: top;\n    }\n\n    .dataframe thead th {\n        text-align: right;\n    }\n</style>\n<table border=\"1\" class=\"dataframe\">\n  <thead>\n    <tr style=\"text-align: right;\">\n      <th></th>\n      <th>title</th>\n      <th>year</th>\n    </tr>\n  </thead>\n  <tbody>\n    <tr>\n      <th>0</th>\n      <td>David Bowie</td>\n      <td>1969</td>\n    </tr>\n    <tr>\n      <th>1</th>\n      <td>The Man Who Sold the World</td>\n      <td>1970</td>\n    </tr>\n    <tr>\n      <th>2</th>\n      <td>Hunky Dory</td>\n      <td>1971</td>\n    </tr>\n  </tbody>\n</table>\n</div>"
     },
     "metadata": {},
     "execution_count": 27
    }
   ],
   "source": [
    "pd.DataFrame([{'title': 'David Bowie', 'year': 1969},\n",
    "              {'title': 'The Man Who Sold the World', 'year': 1970},\n",
    "              {'title': 'Hunky Dory', 'year': 1971}])"
   ]
  },
  {
   "cell_type": "code",
   "execution_count": 17,
   "metadata": {},
   "outputs": [
    {
     "output_type": "execute_result",
     "data": {
      "text/plain": "            title  toprank\n0  Ziggy Stardust        1\n1    Aladdin Sane        1\n2         Pin Ups        1",
      "text/html": "<div>\n<style scoped>\n    .dataframe tbody tr th:only-of-type {\n        vertical-align: middle;\n    }\n\n    .dataframe tbody tr th {\n        vertical-align: top;\n    }\n\n    .dataframe thead th {\n        text-align: right;\n    }\n</style>\n<table border=\"1\" class=\"dataframe\">\n  <thead>\n    <tr style=\"text-align: right;\">\n      <th></th>\n      <th>title</th>\n      <th>toprank</th>\n    </tr>\n  </thead>\n  <tbody>\n    <tr>\n      <th>0</th>\n      <td>Ziggy Stardust</td>\n      <td>1</td>\n    </tr>\n    <tr>\n      <th>1</th>\n      <td>Aladdin Sane</td>\n      <td>1</td>\n    </tr>\n    <tr>\n      <th>2</th>\n      <td>Pin Ups</td>\n      <td>1</td>\n    </tr>\n  </tbody>\n</table>\n</div>"
     },
     "metadata": {},
     "execution_count": 17
    }
   ],
   "source": [
    "pd.DataFrame([('Ziggy Stardust', 1), ('Aladdin Sane', 1), ('Pin Ups', 1)], columns=['title','toprank'])"
   ]
  },
  {
   "cell_type": "code",
   "execution_count": 29,
   "metadata": {},
   "outputs": [
    {
     "output_type": "execute_result",
     "data": {
      "text/plain": "(array(['David Bowie', 'The Man Who Sold the World', 'Hunky Dory',\n        'Ziggy Stardust', 'Aladdin Sane', 'Pin Ups', 'Diamond Dogs',\n        'Young Americans', 'Station To Station', 'Low', 'Heroes', 'Lodger'],\n       dtype='<U32'),\n array(['1969-11-14', '1970-11-04', '1971-12-17', '1972-06-16',\n        '1973-04-13', '1973-10-19', '1974-05-24', '1975-03-07',\n        '1976-01-23', '1977-01-14', '1977-10-14', '1979-05-18'],\n       dtype='datetime64[D]'))"
     },
     "metadata": {},
     "execution_count": 29
    }
   ],
   "source": [
    "disco['title'], disco['release']"
   ]
  },
  {
   "cell_type": "code",
   "execution_count": 18,
   "metadata": {},
   "outputs": [
    {
     "output_type": "execute_result",
     "data": {
      "text/plain": "                         title     release\n0                  David Bowie  1969-11-14\n1   The Man Who Sold the World  1970-11-04\n2                   Hunky Dory  1971-12-17\n3               Ziggy Stardust  1972-06-16\n4                 Aladdin Sane  1973-04-13\n5                      Pin Ups  1973-10-19\n6                 Diamond Dogs  1974-05-24\n7              Young Americans  1975-03-07\n8           Station To Station  1976-01-23\n9                          Low  1977-01-14\n10                      Heroes  1977-10-14\n11                      Lodger  1979-05-18",
      "text/html": "<div>\n<style scoped>\n    .dataframe tbody tr th:only-of-type {\n        vertical-align: middle;\n    }\n\n    .dataframe tbody tr th {\n        vertical-align: top;\n    }\n\n    .dataframe thead th {\n        text-align: right;\n    }\n</style>\n<table border=\"1\" class=\"dataframe\">\n  <thead>\n    <tr style=\"text-align: right;\">\n      <th></th>\n      <th>title</th>\n      <th>release</th>\n    </tr>\n  </thead>\n  <tbody>\n    <tr>\n      <th>0</th>\n      <td>David Bowie</td>\n      <td>1969-11-14</td>\n    </tr>\n    <tr>\n      <th>1</th>\n      <td>The Man Who Sold the World</td>\n      <td>1970-11-04</td>\n    </tr>\n    <tr>\n      <th>2</th>\n      <td>Hunky Dory</td>\n      <td>1971-12-17</td>\n    </tr>\n    <tr>\n      <th>3</th>\n      <td>Ziggy Stardust</td>\n      <td>1972-06-16</td>\n    </tr>\n    <tr>\n      <th>4</th>\n      <td>Aladdin Sane</td>\n      <td>1973-04-13</td>\n    </tr>\n    <tr>\n      <th>5</th>\n      <td>Pin Ups</td>\n      <td>1973-10-19</td>\n    </tr>\n    <tr>\n      <th>6</th>\n      <td>Diamond Dogs</td>\n      <td>1974-05-24</td>\n    </tr>\n    <tr>\n      <th>7</th>\n      <td>Young Americans</td>\n      <td>1975-03-07</td>\n    </tr>\n    <tr>\n      <th>8</th>\n      <td>Station To Station</td>\n      <td>1976-01-23</td>\n    </tr>\n    <tr>\n      <th>9</th>\n      <td>Low</td>\n      <td>1977-01-14</td>\n    </tr>\n    <tr>\n      <th>10</th>\n      <td>Heroes</td>\n      <td>1977-10-14</td>\n    </tr>\n    <tr>\n      <th>11</th>\n      <td>Lodger</td>\n      <td>1979-05-18</td>\n    </tr>\n  </tbody>\n</table>\n</div>"
     },
     "metadata": {},
     "execution_count": 18
    }
   ],
   "source": [
    "pd.DataFrame({'title': ['David Bowie', 'The Man Who Sold the World', 'Hunky Dory',\n",
    "                        'Ziggy Stardust', 'Aladdin Sane', 'Pin Ups', 'Diamond Dogs',\n",
    "                        'Young Americans', 'Station To Station', 'Low', 'Heroes', 'Lodger'],\n",
    "              'release': ['1969-11-14', '1970-11-04', '1971-12-17', '1972-06-16',\n",
    "                          '1973-04-13', '1973-10-19', '1974-05-24', '1975-03-07',\n",
    "                          '1976-01-23', '1977-01-14', '1977-10-14', '1979-05-18']})"
   ]
  },
  {
   "cell_type": "code",
   "execution_count": null,
   "metadata": {},
   "outputs": [],
   "source": []
  }
 ],
 "metadata": {
  "kernelspec": {
   "display_name": "Python 3.8.1 64-bit",
   "language": "python",
   "name": "python38164bit2786cde7f55c4ef3855646d833571f34"
  },
  "language_info": {
   "codemirror_mode": {
    "name": "ipython",
    "version": 3
   },
   "file_extension": ".py",
   "mimetype": "text/x-python",
   "name": "python",
   "nbconvert_exporter": "python",
   "pygments_lexer": "ipython3",
   "version": "3.8.1-final"
  }
 },
 "nbformat": 4,
 "nbformat_minor": 2
}