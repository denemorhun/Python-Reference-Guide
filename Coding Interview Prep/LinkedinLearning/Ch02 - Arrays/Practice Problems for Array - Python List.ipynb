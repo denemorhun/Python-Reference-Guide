{
 "cells": [
  {
   "cell_type": "markdown",
   "metadata": {},
   "source": [
    "# Exercise Problems for Python List (Array)!\n",
    "\n",
    "Remember, if you're familiar with Array in other languages like Java and C++, it's usually implemented as a List in Python."
   ]
  },
  {
   "cell_type": "markdown",
   "metadata": {},
   "source": [
    "### Problem 1: Initialize a new list called a_list with the elements [\"item1\", \"item2\", \"item3\"]."
   ]
  },
  {
   "cell_type": "code",
   "execution_count": 9,
   "metadata": {
    "collapsed": true
   },
   "outputs": [],
   "source": [
    "# Write your solution below:"
   ]
  },
  {
   "cell_type": "code",
   "execution_count": 8,
   "metadata": {
    "collapsed": false
   },
   "outputs": [
    {
     "output_type": "stream",
     "name": "stdout",
     "text": "a_list is: \n('item1', 'item2', 'item3')\n"
    }
   ],
   "source": [
    "a_list = ('item1', 'item2', 'item3')\n",
    "\n",
    "print(\"a_list is: \")\n",
    "print(a_list) # This should print ['item1', 'item2', 'item3']"
   ]
  },
  {
   "cell_type": "markdown",
   "metadata": {},
   "source": [
    "### Problem 2: Change the second element in b_list (defined below) to 1."
   ]
  },
  {
   "cell_type": "code",
   "execution_count": 7,
   "metadata": {
    "collapsed": true
   },
   "outputs": [],
   "source": [
    "b_list = [0, 0, 0]\n",
    "# Write your solution below:"
   ]
  },
  {
   "cell_type": "code",
   "execution_count": 6,
   "metadata": {
    "collapsed": false
   },
   "outputs": [
    {
     "output_type": "stream",
     "name": "stdout",
     "text": "b_list is: \n[0, 1, 0]\n"
    }
   ],
   "source": [
    "b_list[1] = 1\n",
    "\n",
    "print(\"b_list is: \")\n",
    "print(b_list) # This should print [0, 1, 0]"
   ]
  },
  {
   "cell_type": "markdown",
   "metadata": {},
   "source": [
    "### Problem 3: Iterate over each element in c_list and print it using the \"for element in ...\" syntax."
   ]
  },
  {
   "cell_type": "code",
   "execution_count": 12,
   "metadata": {
    "collapsed": false
   },
   "outputs": [
    {
     "output_type": "stream",
     "name": "stdout",
     "text": "item0\nitem1\nitem2\n"
    }
   ],
   "source": [
    "c_list = [\"item0\", \"item1\", \"item2\"]\n",
    "# Write your solution below:\n",
    "\n",
    "for i in c_list:\n",
    "    print(i)"
   ]
  },
  {
   "cell_type": "code",
   "execution_count": 11,
   "metadata": {},
   "outputs": [],
   "source": [
    "### Problem 4: Iterate over each element in d_list and print it using the \"for i in range(...)\" syntax."
   ]
  },
  {
   "cell_type": "code",
   "execution_count": 19,
   "metadata": {
    "collapsed": false
   },
   "outputs": [
    {
     "output_type": "stream",
     "name": "stdout",
     "text": "item0\nitem1\nitem2\nYour solution should have printed item0, item1, and item2.\n"
    }
   ],
   "source": [
    "d_list = [\"item0\", \"item1\", \"item2\"]\n",
    "# Write your solution below:\n",
    "# range(3) -> [0, 1, 2]\n",
    "\n",
    "for i in range(len(d_list)):\n",
    "    print(d_list[i])\n",
    "\n",
    "print(\"Your solution should have printed item0, item1, and item2.\")"
   ]
  },
  {
   "cell_type": "code",
   "execution_count": null,
   "metadata": {},
   "outputs": [],
   "source": []
  },
  {
   "cell_type": "code",
   "execution_count": null,
   "metadata": {},
   "outputs": [],
   "source": []
  },
  {
   "cell_type": "code",
   "execution_count": null,
   "metadata": {},
   "outputs": [],
   "source": []
  },
  {
   "cell_type": "code",
   "execution_count": null,
   "metadata": {},
   "outputs": [],
   "source": []
  },
  {
   "cell_type": "markdown",
   "metadata": {},
   "source": [
    "### Problem 5: Find the sum of e_list, which contains: [32, 55, 710, 1]."
   ]
  },
  {
   "cell_type": "code",
   "execution_count": 18,
   "metadata": {
    "collapsed": false
   },
   "outputs": [
    {
     "output_type": "stream",
     "name": "stdout",
     "text": "The sum of e_list is (should be 798):\n798\n"
    }
   ],
   "source": [
    "e_list = [32, 55, 710, 1]\n",
    "# Write your solution below.\n",
    "total = 0\n",
    "\n",
    "total = sum(e_list)\n",
    "\n",
    "print('The sum of e_list is (should be 798):')\n",
    "print(total)"
   ]
  }
 ],
 "metadata": {
  "anaconda-cloud": {},
  "kernelspec": {
   "display_name": "Python 3.8.1 64-bit",
   "language": "python",
   "name": "python38164bit2786cde7f55c4ef3855646d833571f34"
  },
  "language_info": {
   "codemirror_mode": {
    "name": "ipython",
    "version": 3
   },
   "file_extension": ".py",
   "mimetype": "text/x-python",
   "name": "python",
   "nbconvert_exporter": "python",
   "pygments_lexer": "ipython3",
   "version": "3.8.1-final"
  }
 },
 "nbformat": 4,
 "nbformat_minor": 1
}